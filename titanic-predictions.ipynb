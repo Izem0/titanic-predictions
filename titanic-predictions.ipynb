{
 "cells": [
  {
   "cell_type": "markdown",
   "id": "5c43d695",
   "metadata": {
    "id": "w63MEzCb8QFZ",
    "papermill": {
     "duration": 0.078779,
     "end_time": "2021-12-20T18:46:13.217657",
     "exception": false,
     "start_time": "2021-12-20T18:46:13.138878",
     "status": "completed"
    },
    "tags": []
   },
   "source": [
    "# Titanic - Machine Learning from Disaster\n",
    "\n",
    "This is the notebook of my first submission to a Kaggle competition, namely [Titanic - Machine Learning from Disaster](https://www.kaggle.com/c/titanic)! <br>\n",
    "Let's have fun! (Accuracy=0.8425)"
   ]
  },
  {
   "cell_type": "markdown",
   "id": "a6a918e8",
   "metadata": {},
   "source": [
    "## Table of contents\n",
    "1. [Set up](#Setup)\n",
    "2. [Data cleaning](#datacleaning)\n",
    "3. [Exploratory Data Analysis](#eda)\n",
    "4. [Feature engineering](#feature_engineering)\n",
    "5. [Correlation matrix](#corr_matrix)\n",
    "6. [Modeling](#modeling)\n",
    "7. [Hyperparameters tuning](#hyperparameters_tuning)\n",
    "8. [Submission](#submission)"
   ]
  },
  {
   "cell_type": "markdown",
   "id": "729ea23e",
   "metadata": {
    "id": "a6b3chY-8f6l",
    "papermill": {
     "duration": 0.075491,
     "end_time": "2021-12-20T18:46:13.371303",
     "exception": false,
     "start_time": "2021-12-20T18:46:13.295812",
     "status": "completed"
    },
    "tags": []
   },
   "source": [
    "## Set up <a name=\"Setup\" ></a>"
   ]
  },
  {
   "cell_type": "markdown",
   "id": "20dd9fcb",
   "metadata": {
    "papermill": {
     "duration": 0.07619,
     "end_time": "2021-12-20T18:46:13.523714",
     "exception": false,
     "start_time": "2021-12-20T18:46:13.447524",
     "status": "completed"
    },
    "tags": []
   },
   "source": [
    "Import librairies"
   ]
  },
  {
   "cell_type": "code",
   "execution_count": 100,
   "id": "7f4afbaa",
   "metadata": {
    "execution": {
     "iopub.execute_input": "2021-12-20T18:46:13.683563Z",
     "iopub.status.busy": "2021-12-20T18:46:13.681839Z",
     "iopub.status.idle": "2021-12-20T18:46:14.725716Z",
     "shell.execute_reply": "2021-12-20T18:46:14.726355Z",
     "shell.execute_reply.started": "2021-12-20T17:56:37.402816Z"
    },
    "papermill": {
     "duration": 1.126203,
     "end_time": "2021-12-20T18:46:14.726703",
     "exception": false,
     "start_time": "2021-12-20T18:46:13.600500",
     "status": "completed"
    },
    "tags": []
   },
   "outputs": [],
   "source": [
    "import numpy as np\n",
    "import pandas as pd\n",
    "import matplotlib.pyplot as plt\n",
    "import seaborn as sns\n",
    "plt.rcParams[\"figure.figsize\"] = (8, 5)"
   ]
  },
  {
   "cell_type": "markdown",
   "id": "3b24e5eb",
   "metadata": {
    "id": "OLZcvse3b2ws",
    "papermill": {
     "duration": 0.075699,
     "end_time": "2021-12-20T18:46:14.879050",
     "exception": false,
     "start_time": "2021-12-20T18:46:14.803351",
     "status": "completed"
    },
    "tags": []
   },
   "source": [
    "Load datasets"
   ]
  },
  {
   "cell_type": "code",
   "execution_count": 101,
   "id": "16a9cd83",
   "metadata": {
    "execution": {
     "iopub.execute_input": "2021-12-20T18:46:15.208116Z",
     "iopub.status.busy": "2021-12-20T18:46:15.207106Z",
     "iopub.status.idle": "2021-12-20T18:46:15.248439Z",
     "shell.execute_reply": "2021-12-20T18:46:15.248989Z",
     "shell.execute_reply.started": "2021-12-20T17:56:40.856609Z"
    },
    "id": "2eOWAnTNb1Jn",
    "outputId": "331f8949-41fa-4a43-ee73-e99c0c8bbd45",
    "papermill": {
     "duration": 0.121548,
     "end_time": "2021-12-20T18:46:15.249204",
     "exception": false,
     "start_time": "2021-12-20T18:46:15.127656",
     "status": "completed"
    },
    "tags": []
   },
   "outputs": [],
   "source": [
    "df_train = pd.read_csv(\"data/titanic/train.csv\", sep=\",\")  # train dataset\n",
    "df_test = pd.read_csv(\"data/titanic/test.csv\", sep=\",\")  # test dataset\n",
    "\n",
    "for df in [df_train, df_test]:\n",
    "    df.columns = df.columns.str.lower()  # make column names lowercase"
   ]
  },
  {
   "cell_type": "code",
   "execution_count": 102,
   "id": "70a0a76b",
   "metadata": {
    "execution": {
     "iopub.execute_input": "2021-12-20T18:46:15.406718Z",
     "iopub.status.busy": "2021-12-20T18:46:15.405708Z",
     "iopub.status.idle": "2021-12-20T18:46:15.430639Z",
     "shell.execute_reply": "2021-12-20T18:46:15.431157Z",
     "shell.execute_reply.started": "2021-12-20T17:56:44.846512Z"
    },
    "papermill": {
     "duration": 0.105314,
     "end_time": "2021-12-20T18:46:15.431374",
     "exception": false,
     "start_time": "2021-12-20T18:46:15.326060",
     "status": "completed"
    },
    "tags": []
   },
   "outputs": [
    {
     "data": {
      "text/html": [
       "<div>\n",
       "<style scoped>\n",
       "    .dataframe tbody tr th:only-of-type {\n",
       "        vertical-align: middle;\n",
       "    }\n",
       "\n",
       "    .dataframe tbody tr th {\n",
       "        vertical-align: top;\n",
       "    }\n",
       "\n",
       "    .dataframe thead th {\n",
       "        text-align: right;\n",
       "    }\n",
       "</style>\n",
       "<table border=\"1\" class=\"dataframe\">\n",
       "  <thead>\n",
       "    <tr style=\"text-align: right;\">\n",
       "      <th></th>\n",
       "      <th>passengerid</th>\n",
       "      <th>survived</th>\n",
       "      <th>pclass</th>\n",
       "      <th>name</th>\n",
       "      <th>sex</th>\n",
       "      <th>age</th>\n",
       "      <th>sibsp</th>\n",
       "      <th>parch</th>\n",
       "      <th>ticket</th>\n",
       "      <th>fare</th>\n",
       "      <th>cabin</th>\n",
       "      <th>embarked</th>\n",
       "    </tr>\n",
       "  </thead>\n",
       "  <tbody>\n",
       "    <tr>\n",
       "      <th>0</th>\n",
       "      <td>1</td>\n",
       "      <td>0</td>\n",
       "      <td>3</td>\n",
       "      <td>Braund, Mr. Owen Harris</td>\n",
       "      <td>male</td>\n",
       "      <td>22.0</td>\n",
       "      <td>1</td>\n",
       "      <td>0</td>\n",
       "      <td>A/5 21171</td>\n",
       "      <td>7.2500</td>\n",
       "      <td>NaN</td>\n",
       "      <td>S</td>\n",
       "    </tr>\n",
       "    <tr>\n",
       "      <th>1</th>\n",
       "      <td>2</td>\n",
       "      <td>1</td>\n",
       "      <td>1</td>\n",
       "      <td>Cumings, Mrs. John Bradley (Florence Briggs Th...</td>\n",
       "      <td>female</td>\n",
       "      <td>38.0</td>\n",
       "      <td>1</td>\n",
       "      <td>0</td>\n",
       "      <td>PC 17599</td>\n",
       "      <td>71.2833</td>\n",
       "      <td>C85</td>\n",
       "      <td>C</td>\n",
       "    </tr>\n",
       "    <tr>\n",
       "      <th>2</th>\n",
       "      <td>3</td>\n",
       "      <td>1</td>\n",
       "      <td>3</td>\n",
       "      <td>Heikkinen, Miss. Laina</td>\n",
       "      <td>female</td>\n",
       "      <td>26.0</td>\n",
       "      <td>0</td>\n",
       "      <td>0</td>\n",
       "      <td>STON/O2. 3101282</td>\n",
       "      <td>7.9250</td>\n",
       "      <td>NaN</td>\n",
       "      <td>S</td>\n",
       "    </tr>\n",
       "    <tr>\n",
       "      <th>3</th>\n",
       "      <td>4</td>\n",
       "      <td>1</td>\n",
       "      <td>1</td>\n",
       "      <td>Futrelle, Mrs. Jacques Heath (Lily May Peel)</td>\n",
       "      <td>female</td>\n",
       "      <td>35.0</td>\n",
       "      <td>1</td>\n",
       "      <td>0</td>\n",
       "      <td>113803</td>\n",
       "      <td>53.1000</td>\n",
       "      <td>C123</td>\n",
       "      <td>S</td>\n",
       "    </tr>\n",
       "    <tr>\n",
       "      <th>4</th>\n",
       "      <td>5</td>\n",
       "      <td>0</td>\n",
       "      <td>3</td>\n",
       "      <td>Allen, Mr. William Henry</td>\n",
       "      <td>male</td>\n",
       "      <td>35.0</td>\n",
       "      <td>0</td>\n",
       "      <td>0</td>\n",
       "      <td>373450</td>\n",
       "      <td>8.0500</td>\n",
       "      <td>NaN</td>\n",
       "      <td>S</td>\n",
       "    </tr>\n",
       "  </tbody>\n",
       "</table>\n",
       "</div>"
      ],
      "text/plain": [
       "   passengerid  survived  pclass  \\\n",
       "0            1         0       3   \n",
       "1            2         1       1   \n",
       "2            3         1       3   \n",
       "3            4         1       1   \n",
       "4            5         0       3   \n",
       "\n",
       "                                                name     sex   age  sibsp  \\\n",
       "0                            Braund, Mr. Owen Harris    male  22.0      1   \n",
       "1  Cumings, Mrs. John Bradley (Florence Briggs Th...  female  38.0      1   \n",
       "2                             Heikkinen, Miss. Laina  female  26.0      0   \n",
       "3       Futrelle, Mrs. Jacques Heath (Lily May Peel)  female  35.0      1   \n",
       "4                           Allen, Mr. William Henry    male  35.0      0   \n",
       "\n",
       "   parch            ticket     fare cabin embarked  \n",
       "0      0         A/5 21171   7.2500   NaN        S  \n",
       "1      0          PC 17599  71.2833   C85        C  \n",
       "2      0  STON/O2. 3101282   7.9250   NaN        S  \n",
       "3      0            113803  53.1000  C123        S  \n",
       "4      0            373450   8.0500   NaN        S  "
      ]
     },
     "execution_count": 102,
     "metadata": {},
     "output_type": "execute_result"
    }
   ],
   "source": [
    "df_train.head()"
   ]
  },
  {
   "cell_type": "code",
   "execution_count": 103,
   "id": "3f8bd3f8",
   "metadata": {
    "execution": {
     "iopub.execute_input": "2021-12-20T18:46:15.590264Z",
     "iopub.status.busy": "2021-12-20T18:46:15.589315Z",
     "iopub.status.idle": "2021-12-20T18:46:15.604288Z",
     "shell.execute_reply": "2021-12-20T18:46:15.604897Z",
     "shell.execute_reply.started": "2021-12-20T17:56:46.886754Z"
    },
    "papermill": {
     "duration": 0.096646,
     "end_time": "2021-12-20T18:46:15.605088",
     "exception": false,
     "start_time": "2021-12-20T18:46:15.508442",
     "status": "completed"
    },
    "tags": []
   },
   "outputs": [
    {
     "data": {
      "text/html": [
       "<div>\n",
       "<style scoped>\n",
       "    .dataframe tbody tr th:only-of-type {\n",
       "        vertical-align: middle;\n",
       "    }\n",
       "\n",
       "    .dataframe tbody tr th {\n",
       "        vertical-align: top;\n",
       "    }\n",
       "\n",
       "    .dataframe thead th {\n",
       "        text-align: right;\n",
       "    }\n",
       "</style>\n",
       "<table border=\"1\" class=\"dataframe\">\n",
       "  <thead>\n",
       "    <tr style=\"text-align: right;\">\n",
       "      <th></th>\n",
       "      <th>passengerid</th>\n",
       "      <th>pclass</th>\n",
       "      <th>name</th>\n",
       "      <th>sex</th>\n",
       "      <th>age</th>\n",
       "      <th>sibsp</th>\n",
       "      <th>parch</th>\n",
       "      <th>ticket</th>\n",
       "      <th>fare</th>\n",
       "      <th>cabin</th>\n",
       "      <th>embarked</th>\n",
       "    </tr>\n",
       "  </thead>\n",
       "  <tbody>\n",
       "    <tr>\n",
       "      <th>0</th>\n",
       "      <td>892</td>\n",
       "      <td>3</td>\n",
       "      <td>Kelly, Mr. James</td>\n",
       "      <td>male</td>\n",
       "      <td>34.5</td>\n",
       "      <td>0</td>\n",
       "      <td>0</td>\n",
       "      <td>330911</td>\n",
       "      <td>7.8292</td>\n",
       "      <td>NaN</td>\n",
       "      <td>Q</td>\n",
       "    </tr>\n",
       "    <tr>\n",
       "      <th>1</th>\n",
       "      <td>893</td>\n",
       "      <td>3</td>\n",
       "      <td>Wilkes, Mrs. James (Ellen Needs)</td>\n",
       "      <td>female</td>\n",
       "      <td>47.0</td>\n",
       "      <td>1</td>\n",
       "      <td>0</td>\n",
       "      <td>363272</td>\n",
       "      <td>7.0000</td>\n",
       "      <td>NaN</td>\n",
       "      <td>S</td>\n",
       "    </tr>\n",
       "    <tr>\n",
       "      <th>2</th>\n",
       "      <td>894</td>\n",
       "      <td>2</td>\n",
       "      <td>Myles, Mr. Thomas Francis</td>\n",
       "      <td>male</td>\n",
       "      <td>62.0</td>\n",
       "      <td>0</td>\n",
       "      <td>0</td>\n",
       "      <td>240276</td>\n",
       "      <td>9.6875</td>\n",
       "      <td>NaN</td>\n",
       "      <td>Q</td>\n",
       "    </tr>\n",
       "    <tr>\n",
       "      <th>3</th>\n",
       "      <td>895</td>\n",
       "      <td>3</td>\n",
       "      <td>Wirz, Mr. Albert</td>\n",
       "      <td>male</td>\n",
       "      <td>27.0</td>\n",
       "      <td>0</td>\n",
       "      <td>0</td>\n",
       "      <td>315154</td>\n",
       "      <td>8.6625</td>\n",
       "      <td>NaN</td>\n",
       "      <td>S</td>\n",
       "    </tr>\n",
       "    <tr>\n",
       "      <th>4</th>\n",
       "      <td>896</td>\n",
       "      <td>3</td>\n",
       "      <td>Hirvonen, Mrs. Alexander (Helga E Lindqvist)</td>\n",
       "      <td>female</td>\n",
       "      <td>22.0</td>\n",
       "      <td>1</td>\n",
       "      <td>1</td>\n",
       "      <td>3101298</td>\n",
       "      <td>12.2875</td>\n",
       "      <td>NaN</td>\n",
       "      <td>S</td>\n",
       "    </tr>\n",
       "  </tbody>\n",
       "</table>\n",
       "</div>"
      ],
      "text/plain": [
       "   passengerid  pclass                                          name     sex  \\\n",
       "0          892       3                              Kelly, Mr. James    male   \n",
       "1          893       3              Wilkes, Mrs. James (Ellen Needs)  female   \n",
       "2          894       2                     Myles, Mr. Thomas Francis    male   \n",
       "3          895       3                              Wirz, Mr. Albert    male   \n",
       "4          896       3  Hirvonen, Mrs. Alexander (Helga E Lindqvist)  female   \n",
       "\n",
       "    age  sibsp  parch   ticket     fare cabin embarked  \n",
       "0  34.5      0      0   330911   7.8292   NaN        Q  \n",
       "1  47.0      1      0   363272   7.0000   NaN        S  \n",
       "2  62.0      0      0   240276   9.6875   NaN        Q  \n",
       "3  27.0      0      0   315154   8.6625   NaN        S  \n",
       "4  22.0      1      1  3101298  12.2875   NaN        S  "
      ]
     },
     "execution_count": 103,
     "metadata": {},
     "output_type": "execute_result"
    }
   ],
   "source": [
    "df_test.head()"
   ]
  },
  {
   "cell_type": "markdown",
   "id": "0b09b764",
   "metadata": {
    "id": "iO5ZYpjGUjon",
    "papermill": {
     "duration": 0.077462,
     "end_time": "2021-12-20T18:46:15.760022",
     "exception": false,
     "start_time": "2021-12-20T18:46:15.682560",
     "status": "completed"
    },
    "tags": []
   },
   "source": [
    "## Data cleaning <a name=\"datacleaning\"></a>"
   ]
  },
  {
   "cell_type": "markdown",
   "id": "ae19f80b",
   "metadata": {
    "id": "1VNdL-9ucDss",
    "papermill": {
     "duration": 0.07715,
     "end_time": "2021-12-20T18:46:15.915011",
     "exception": false,
     "start_time": "2021-12-20T18:46:15.837861",
     "status": "completed"
    },
    "tags": []
   },
   "source": [
    "### Check columns types"
   ]
  },
  {
   "cell_type": "code",
   "execution_count": 104,
   "id": "01086b85",
   "metadata": {
    "execution": {
     "iopub.execute_input": "2021-12-20T18:46:16.077041Z",
     "iopub.status.busy": "2021-12-20T18:46:16.076119Z",
     "iopub.status.idle": "2021-12-20T18:46:16.101673Z",
     "shell.execute_reply": "2021-12-20T18:46:16.102574Z",
     "shell.execute_reply.started": "2021-12-20T17:56:50.469981Z"
    },
    "id": "7ZDaDpYOcHJz",
    "outputId": "b45bc288-dee5-4c03-9cbe-7bb8fce622b8",
    "papermill": {
     "duration": 0.109888,
     "end_time": "2021-12-20T18:46:16.102853",
     "exception": false,
     "start_time": "2021-12-20T18:46:15.992965",
     "status": "completed"
    },
    "tags": []
   },
   "outputs": [
    {
     "name": "stdout",
     "output_type": "stream",
     "text": [
      "<class 'pandas.core.frame.DataFrame'>\n",
      "RangeIndex: 891 entries, 0 to 890\n",
      "Data columns (total 12 columns):\n",
      " #   Column       Non-Null Count  Dtype  \n",
      "---  ------       --------------  -----  \n",
      " 0   passengerid  891 non-null    int64  \n",
      " 1   survived     891 non-null    int64  \n",
      " 2   pclass       891 non-null    int64  \n",
      " 3   name         891 non-null    object \n",
      " 4   sex          891 non-null    object \n",
      " 5   age          714 non-null    float64\n",
      " 6   sibsp        891 non-null    int64  \n",
      " 7   parch        891 non-null    int64  \n",
      " 8   ticket       891 non-null    object \n",
      " 9   fare         891 non-null    float64\n",
      " 10  cabin        204 non-null    object \n",
      " 11  embarked     889 non-null    object \n",
      "dtypes: float64(2), int64(5), object(5)\n",
      "memory usage: 83.7+ KB\n"
     ]
    }
   ],
   "source": [
    "df_train.info()"
   ]
  },
  {
   "cell_type": "code",
   "execution_count": 105,
   "id": "12fbeba8",
   "metadata": {
    "execution": {
     "iopub.execute_input": "2021-12-20T18:46:16.267934Z",
     "iopub.status.busy": "2021-12-20T18:46:16.267287Z",
     "iopub.status.idle": "2021-12-20T18:46:16.276514Z",
     "shell.execute_reply": "2021-12-20T18:46:16.277283Z",
     "shell.execute_reply.started": "2021-12-20T17:57:04.960252Z"
    },
    "papermill": {
     "duration": 0.094289,
     "end_time": "2021-12-20T18:46:16.277527",
     "exception": false,
     "start_time": "2021-12-20T18:46:16.183238",
     "status": "completed"
    },
    "tags": []
   },
   "outputs": [
    {
     "name": "stdout",
     "output_type": "stream",
     "text": [
      "<class 'pandas.core.frame.DataFrame'>\n",
      "RangeIndex: 418 entries, 0 to 417\n",
      "Data columns (total 11 columns):\n",
      " #   Column       Non-Null Count  Dtype  \n",
      "---  ------       --------------  -----  \n",
      " 0   passengerid  418 non-null    int64  \n",
      " 1   pclass       418 non-null    int64  \n",
      " 2   name         418 non-null    object \n",
      " 3   sex          418 non-null    object \n",
      " 4   age          332 non-null    float64\n",
      " 5   sibsp        418 non-null    int64  \n",
      " 6   parch        418 non-null    int64  \n",
      " 7   ticket       418 non-null    object \n",
      " 8   fare         417 non-null    float64\n",
      " 9   cabin        91 non-null     object \n",
      " 10  embarked     418 non-null    object \n",
      "dtypes: float64(2), int64(4), object(5)\n",
      "memory usage: 36.0+ KB\n"
     ]
    }
   ],
   "source": [
    "df_test.info()"
   ]
  },
  {
   "cell_type": "markdown",
   "id": "48d5eddc",
   "metadata": {
    "id": "dARMyDDg8uU9",
    "papermill": {
     "duration": 0.078384,
     "end_time": "2021-12-20T18:46:16.436079",
     "exception": false,
     "start_time": "2021-12-20T18:46:16.357695",
     "status": "completed"
    },
    "tags": []
   },
   "source": [
    "Each Dtype looks correct!\n",
    "\n"
   ]
  },
  {
   "cell_type": "markdown",
   "id": "4e0e034a",
   "metadata": {
    "id": "5OxSISA0_9BJ",
    "papermill": {
     "duration": 0.078814,
     "end_time": "2021-12-20T18:46:16.593995",
     "exception": false,
     "start_time": "2021-12-20T18:46:16.515181",
     "status": "completed"
    },
    "tags": []
   },
   "source": [
    "### Let's look for outliers"
   ]
  },
  {
   "cell_type": "markdown",
   "id": "6b211c84",
   "metadata": {
    "id": "M_DQpMBTBvwb",
    "papermill": {
     "duration": 0.077851,
     "end_time": "2021-12-20T18:46:16.750002",
     "exception": false,
     "start_time": "2021-12-20T18:46:16.672151",
     "status": "completed"
    },
    "tags": []
   },
   "source": [
    "#### Numeric data"
   ]
  },
  {
   "cell_type": "code",
   "execution_count": 111,
   "id": "04d0d560",
   "metadata": {},
   "outputs": [
    {
     "data": {
      "image/png": "[encoded data removed]",
      "text/plain": [
       "<Figure size 1152x576 with 8 Axes>"
      ]
     },
     "metadata": {
      "needs_background": "light"
     },
     "output_type": "display_data"
    }
   ],
   "source": [
    "num_cols = df_train.select_dtypes(include=\"number\").columns.to_list()\n",
    "\n",
    "fig, axs = plt.subplots(2, 4, figsize=(16, 8))\n",
    "axs = axs.flatten()\n",
    "for i, col in enumerate(num_cols):\n",
    "  sns.stripplot(x=col, data=df_train, ax=axs[i])"
   ]
  },
  {
   "cell_type": "markdown",
   "id": "d9b759c9",
   "metadata": {
    "id": "IC8kacPPBmH0",
    "papermill": {
     "duration": 0.086782,
     "end_time": "2021-12-20T18:46:18.190093",
     "exception": false,
     "start_time": "2021-12-20T18:46:18.103311",
     "status": "completed"
    },
    "tags": []
   },
   "source": [
    "According to the plots, there seems to be no outliers in our numeric columns"
   ]
  },
  {
   "cell_type": "markdown",
   "id": "ac433fa8",
   "metadata": {
    "id": "r1n3RDs4B1_k",
    "papermill": {
     "duration": 0.08654,
     "end_time": "2021-12-20T18:46:18.361961",
     "exception": false,
     "start_time": "2021-12-20T18:46:18.275421",
     "status": "completed"
    },
    "tags": []
   },
   "source": [
    "#### Categorical data"
   ]
  },
  {
   "cell_type": "code",
   "execution_count": 23,
   "id": "7acfafe2",
   "metadata": {
    "execution": {
     "iopub.execute_input": "2021-12-20T18:46:18.539150Z",
     "iopub.status.busy": "2021-12-20T18:46:18.538515Z",
     "iopub.status.idle": "2021-12-20T18:46:18.541548Z",
     "shell.execute_reply": "2021-12-20T18:46:18.540970Z",
     "shell.execute_reply.started": "2021-12-20T17:57:27.495031Z"
    },
    "id": "XyFGGLX9CZT9",
    "outputId": "09f49b4a-4d3f-4b8c-c6f2-42d5f3b1348b",
    "papermill": {
     "duration": 0.093512,
     "end_time": "2021-12-20T18:46:18.541692",
     "exception": false,
     "start_time": "2021-12-20T18:46:18.448180",
     "status": "completed"
    },
    "tags": []
   },
   "outputs": [
    {
     "data": {
      "text/plain": [
       "['name', 'sex', 'ticket', 'cabin', 'embarked']"
      ]
     },
     "execution_count": 23,
     "metadata": {},
     "output_type": "execute_result"
    }
   ],
   "source": [
    "cat_cols = df_train.select_dtypes(exclude=\"number\").columns.to_list()\n",
    "cat_cols"
   ]
  },
  {
   "cell_type": "code",
   "execution_count": 24,
   "id": "2062af17",
   "metadata": {
    "execution": {
     "iopub.execute_input": "2021-12-20T18:46:18.720221Z",
     "iopub.status.busy": "2021-12-20T18:46:18.719521Z",
     "iopub.status.idle": "2021-12-20T18:46:18.722483Z",
     "shell.execute_reply": "2021-12-20T18:46:18.723262Z",
     "shell.execute_reply.started": "2021-12-20T17:57:29.254313Z"
    },
    "id": "KWQ4wCBKB5Hk",
    "outputId": "b775c383-6955-4d56-a377-0cf04e78c7e4",
    "papermill": {
     "duration": 0.096719,
     "end_time": "2021-12-20T18:46:18.723497",
     "exception": false,
     "start_time": "2021-12-20T18:46:18.626778",
     "status": "completed"
    },
    "tags": []
   },
   "outputs": [
    {
     "name": "stdout",
     "output_type": "stream",
     "text": [
      "B96 B98            4\n",
      "G6                 4\n",
      "C23 C25 C27        4\n",
      "C22 C26            3\n",
      "F33                3\n",
      "F2                 3\n",
      "E101               3\n",
      "D                  3\n",
      "C78                2\n",
      "C93                2\n",
      "E8                 2\n",
      "D36                2\n",
      "B77                2\n",
      "C123               2\n",
      "E121               2\n",
      "E44                2\n",
      "D35                2\n",
      "C125               2\n",
      "E67                2\n",
      "B35                2\n",
      "B18                2\n",
      "E24                2\n",
      "B49                2\n",
      "C65                2\n",
      "B20                2\n",
      "B5                 2\n",
      "B57 B59 B63 B66    2\n",
      "C126               2\n",
      "B51 B53 B55        2\n",
      "F4                 2\n",
      "C124               2\n",
      "F G73              2\n",
      "B58 B60            2\n",
      "C52                2\n",
      "D33                2\n",
      "C68                2\n",
      "D20                2\n",
      "D26                2\n",
      "B28                2\n",
      "C83                2\n",
      "E25                2\n",
      "D17                2\n",
      "B22                2\n",
      "C92                2\n",
      "C2                 2\n",
      "E33                2\n",
      "C70                1\n",
      "E58                1\n",
      "A16                1\n",
      "C86                1\n",
      "D19                1\n",
      "D48                1\n",
      "A26                1\n",
      "B50                1\n",
      "A20                1\n",
      "C101               1\n",
      "A10                1\n",
      "A23                1\n",
      "E68                1\n",
      "D9                 1\n",
      "B41                1\n",
      "D50                1\n",
      "C85                1\n",
      "B71                1\n",
      "D49                1\n",
      "B42                1\n",
      "C50                1\n",
      "A24                1\n",
      "E17                1\n",
      "D28                1\n",
      "C47                1\n",
      "E49                1\n",
      "B69                1\n",
      "B102               1\n",
      "A36                1\n",
      "B82 B84            1\n",
      "D6                 1\n",
      "B3                 1\n",
      "F38                1\n",
      "E77                1\n",
      "D11                1\n",
      "D30                1\n",
      "C46                1\n",
      "D45                1\n",
      "B101               1\n",
      "B38                1\n",
      "C45                1\n",
      "C90                1\n",
      "C62 C64            1\n",
      "F G63              1\n",
      "B39                1\n",
      "E10                1\n",
      "C95                1\n",
      "B86                1\n",
      "C99                1\n",
      "B94                1\n",
      "C87                1\n",
      "D15                1\n",
      "A31                1\n",
      "B80                1\n",
      "B4                 1\n",
      "A32                1\n",
      "C49                1\n",
      "A7                 1\n",
      "B19                1\n",
      "D47                1\n",
      "D7                 1\n",
      "F E69              1\n",
      "C110               1\n",
      "D10 D12            1\n",
      "A5                 1\n",
      "E31                1\n",
      "B30                1\n",
      "B78                1\n",
      "A6                 1\n",
      "D56                1\n",
      "C103               1\n",
      "E46                1\n",
      "C118               1\n",
      "A19                1\n",
      "B73                1\n",
      "A34                1\n",
      "D46                1\n",
      "B79                1\n",
      "C30                1\n",
      "B37                1\n",
      "A14                1\n",
      "E63                1\n",
      "E12                1\n",
      "D21                1\n",
      "E38                1\n",
      "C111               1\n",
      "C104               1\n",
      "C82                1\n",
      "C106               1\n",
      "E50                1\n",
      "D37                1\n",
      "C128               1\n",
      "T                  1\n",
      "E40                1\n",
      "C91                1\n",
      "C32                1\n",
      "E34                1\n",
      "C7                 1\n",
      "C54                1\n",
      "E36                1\n",
      "C148               1\n",
      "Name: cabin, dtype: int64\n"
     ]
    }
   ],
   "source": [
    "with pd.option_context(\"display.max_rows\", None):\n",
    "  print(df_train[\"cabin\"].value_counts())"
   ]
  },
  {
   "cell_type": "markdown",
   "id": "8b99d375",
   "metadata": {
    "id": "FwfDkBuDDkGX",
    "papermill": {
     "duration": 0.085444,
     "end_time": "2021-12-20T18:46:18.896654",
     "exception": false,
     "start_time": "2021-12-20T18:46:18.811210",
     "status": "completed"
    },
    "tags": []
   },
   "source": [
    "There seems to be no outliers/weird values in the categorical data. We can note however that some people have several cabins. We'll use that later to see whether it is useful for our prediction"
   ]
  },
  {
   "cell_type": "markdown",
   "id": "92ad0516",
   "metadata": {
    "id": "a-fuF_XuDk5m",
    "papermill": {
     "duration": 0.086994,
     "end_time": "2021-12-20T18:46:19.070069",
     "exception": false,
     "start_time": "2021-12-20T18:46:18.983075",
     "status": "completed"
    },
    "tags": []
   },
   "source": [
    "### Check for missing values"
   ]
  },
  {
   "cell_type": "markdown",
   "id": "e3bc7fb6",
   "metadata": {
    "papermill": {
     "duration": 0.0855,
     "end_time": "2021-12-20T18:46:19.242467",
     "exception": false,
     "start_time": "2021-12-20T18:46:19.156967",
     "status": "completed"
    },
    "tags": []
   },
   "source": [
    "#### Train data"
   ]
  },
  {
   "cell_type": "code",
   "execution_count": 11,
   "id": "864c2f35",
   "metadata": {
    "execution": {
     "iopub.execute_input": "2021-12-20T18:46:19.418237Z",
     "iopub.status.busy": "2021-12-20T18:46:19.417620Z",
     "iopub.status.idle": "2021-12-20T18:46:19.425998Z",
     "shell.execute_reply": "2021-12-20T18:46:19.426551Z",
     "shell.execute_reply.started": "2021-12-20T17:57:36.968162Z"
    },
    "id": "9t--mvjiDkpv",
    "outputId": "4f4bc153-0c17-402f-c614-d2779205997b",
    "papermill": {
     "duration": 0.097836,
     "end_time": "2021-12-20T18:46:19.426743",
     "exception": false,
     "start_time": "2021-12-20T18:46:19.328907",
     "status": "completed"
    },
    "tags": []
   },
   "outputs": [
    {
     "data": {
      "text/plain": [
       "passengerid      0\n",
       "survived         0\n",
       "pclass           0\n",
       "name             0\n",
       "sex              0\n",
       "age            177\n",
       "sibsp            0\n",
       "parch            0\n",
       "ticket           0\n",
       "fare             0\n",
       "cabin          687\n",
       "embarked         2\n",
       "dtype: int64"
      ]
     },
     "execution_count": 11,
     "metadata": {},
     "output_type": "execute_result"
    }
   ],
   "source": [
    "df_train.isna().sum()"
   ]
  },
  {
   "cell_type": "markdown",
   "id": "12b5fe7b",
   "metadata": {
    "id": "kFE-bD3c_g7J",
    "papermill": {
     "duration": 0.085891,
     "end_time": "2021-12-20T18:46:19.599555",
     "exception": false,
     "start_time": "2021-12-20T18:46:19.513664",
     "status": "completed"
    },
    "tags": []
   },
   "source": [
    "\n",
    "\n",
    "1. _Age_: __177__ missing values is a lot. Let's fill them with the median age of each title group (title is \"Mr.\", \"Miss\", in the name of the passengers)\n",
    "2. _Cabin_: __687__ missing values is also a lot. We'll skip this feature for now (we'll take care of it in the Feature Engineering phase).\n",
    "3. _Embarked_: only __2__ missing values. These ones can be discarded.\n",
    "\n"
   ]
  },
  {
   "cell_type": "markdown",
   "id": "be04a7cd",
   "metadata": {
    "papermill": {
     "duration": 0.086231,
     "end_time": "2021-12-20T18:46:19.772487",
     "exception": false,
     "start_time": "2021-12-20T18:46:19.686256",
     "status": "completed"
    },
    "tags": []
   },
   "source": [
    "#### Test data"
   ]
  },
  {
   "cell_type": "code",
   "execution_count": 12,
   "id": "36d6078b",
   "metadata": {
    "execution": {
     "iopub.execute_input": "2021-12-20T18:46:19.949138Z",
     "iopub.status.busy": "2021-12-20T18:46:19.948497Z",
     "iopub.status.idle": "2021-12-20T18:46:19.957105Z",
     "shell.execute_reply": "2021-12-20T18:46:19.957611Z",
     "shell.execute_reply.started": "2021-12-20T17:57:59.115250Z"
    },
    "papermill": {
     "duration": 0.098377,
     "end_time": "2021-12-20T18:46:19.957803",
     "exception": false,
     "start_time": "2021-12-20T18:46:19.859426",
     "status": "completed"
    },
    "tags": []
   },
   "outputs": [
    {
     "data": {
      "text/plain": [
       "passengerid      0\n",
       "pclass           0\n",
       "name             0\n",
       "sex              0\n",
       "age             86\n",
       "sibsp            0\n",
       "parch            0\n",
       "ticket           0\n",
       "fare             1\n",
       "cabin          327\n",
       "embarked         0\n",
       "dtype: int64"
      ]
     },
     "execution_count": 12,
     "metadata": {},
     "output_type": "execute_result"
    }
   ],
   "source": [
    "df_test.isna().sum()"
   ]
  },
  {
   "cell_type": "markdown",
   "id": "586b9956",
   "metadata": {
    "papermill": {
     "duration": 0.087623,
     "end_time": "2021-12-20T18:46:20.133302",
     "exception": false,
     "start_time": "2021-12-20T18:46:20.045679",
     "status": "completed"
    },
    "tags": []
   },
   "source": [
    "For the test dataframe, some ages values are missing too as well as cabin values. We'll fill them the same way as for the train dataset.\n",
    "However, a fare is also, missing, we need to take care of that one."
   ]
  },
  {
   "cell_type": "markdown",
   "id": "38a19622",
   "metadata": {
    "id": "CfeDdTDgEpJf",
    "papermill": {
     "duration": 0.086501,
     "end_time": "2021-12-20T18:46:20.306457",
     "exception": false,
     "start_time": "2021-12-20T18:46:20.219956",
     "status": "completed"
    },
    "tags": []
   },
   "source": [
    "### Take care of missing values"
   ]
  },
  {
   "cell_type": "markdown",
   "id": "2cd4cff5",
   "metadata": {
    "id": "PsfTuVI5Evv6",
    "papermill": {
     "duration": 0.086383,
     "end_time": "2021-12-20T18:46:20.479455",
     "exception": false,
     "start_time": "2021-12-20T18:46:20.393072",
     "status": "completed"
    },
    "tags": []
   },
   "source": [
    "#### Age"
   ]
  },
  {
   "cell_type": "code",
   "execution_count": 112,
   "id": "189dd070",
   "metadata": {
    "execution": {
     "iopub.execute_input": "2021-12-20T18:46:20.664059Z",
     "iopub.status.busy": "2021-12-20T18:46:20.663031Z",
     "iopub.status.idle": "2021-12-20T18:46:20.675551Z",
     "shell.execute_reply": "2021-12-20T18:46:20.676168Z",
     "shell.execute_reply.started": "2021-12-20T18:00:51.542753Z"
    },
    "id": "mDAYKUi9_gdm",
    "outputId": "0c45ef94-8e94-4605-f9f2-77f773705f36",
    "papermill": {
     "duration": 0.10428,
     "end_time": "2021-12-20T18:46:20.676364",
     "exception": false,
     "start_time": "2021-12-20T18:46:20.572084",
     "status": "completed"
    },
    "tags": []
   },
   "outputs": [
    {
     "data": {
      "text/plain": [
       "Mr.          517\n",
       "Miss.        182\n",
       "Mrs.         125\n",
       "Master.       40\n",
       "Dr.            7\n",
       "Rev.           6\n",
       "Mlle.          2\n",
       "Major.         2\n",
       "Col.           2\n",
       "the            1\n",
       "Capt.          1\n",
       "Ms.            1\n",
       "Sir.           1\n",
       "Lady.          1\n",
       "Mme.           1\n",
       "Don.           1\n",
       "Jonkheer.      1\n",
       "Name: title, dtype: int64"
      ]
     },
     "execution_count": 112,
     "metadata": {},
     "output_type": "execute_result"
    }
   ],
   "source": [
    "for df in [df_train, df_test]:\n",
    "    df[\"title\"] = [x.split(\", \")[1].split()[0] for x in df[\"name\"]] # create a \"title\" feature\n",
    "\n",
    "df_train[\"title\"].value_counts()"
   ]
  },
  {
   "cell_type": "markdown",
   "id": "039865fb",
   "metadata": {},
   "source": [
    "Fill missing values with the median age of each title group"
   ]
  },
  {
   "cell_type": "code",
   "execution_count": 113,
   "id": "6d2c6136",
   "metadata": {
    "execution": {
     "iopub.execute_input": "2021-12-20T18:46:20.858431Z",
     "iopub.status.busy": "2021-12-20T18:46:20.857477Z",
     "iopub.status.idle": "2021-12-20T18:46:20.876651Z",
     "shell.execute_reply": "2021-12-20T18:46:20.877273Z",
     "shell.execute_reply.started": "2021-12-20T18:01:15.207571Z"
    },
    "id": "_tPFFaJ9E2HA",
    "papermill": {
     "duration": 0.112743,
     "end_time": "2021-12-20T18:46:20.877466",
     "exception": false,
     "start_time": "2021-12-20T18:46:20.764723",
     "status": "completed"
    },
    "tags": []
   },
   "outputs": [
    {
     "name": "stderr",
     "output_type": "stream",
     "text": [
      "c:\\users\\izeme\\appdata\\local\\programs\\python\\python39\\lib\\site-packages\\numpy\\lib\\nanfunctions.py:1117: RuntimeWarning: Mean of empty slice\n",
      "  return np.nanmean(a, axis, out=out, keepdims=keepdims)\n"
     ]
    }
   ],
   "source": [
    "for df in [df_train, df_test]:\n",
    "    df['age'] = df.groupby([\"title\"])['age'].transform(lambda x: x.fillna(x.median()))"
   ]
  },
  {
   "cell_type": "code",
   "execution_count": 27,
   "id": "50e76155",
   "metadata": {
    "execution": {
     "iopub.execute_input": "2021-12-20T18:46:21.073132Z",
     "iopub.status.busy": "2021-12-20T18:46:21.072164Z",
     "iopub.status.idle": "2021-12-20T18:46:21.079910Z",
     "shell.execute_reply": "2021-12-20T18:46:21.079366Z",
     "shell.execute_reply.started": "2021-12-20T18:01:25.022508Z"
    },
    "papermill": {
     "duration": 0.114132,
     "end_time": "2021-12-20T18:46:21.080065",
     "exception": false,
     "start_time": "2021-12-20T18:46:20.965933",
     "status": "completed"
    },
    "tags": []
   },
   "outputs": [
    {
     "data": {
      "text/plain": [
       "(0, 1)"
      ]
     },
     "execution_count": 27,
     "metadata": {},
     "output_type": "execute_result"
    }
   ],
   "source": [
    "df_train[\"age\"].isna().sum(), df_test[\"age\"].isna().sum()"
   ]
  },
  {
   "cell_type": "code",
   "execution_count": 30,
   "id": "2b2b71d6",
   "metadata": {
    "execution": {
     "iopub.execute_input": "2021-12-20T18:46:21.310435Z",
     "iopub.status.busy": "2021-12-20T18:46:21.309406Z",
     "iopub.status.idle": "2021-12-20T18:46:21.325918Z",
     "shell.execute_reply": "2021-12-20T18:46:21.326419Z",
     "shell.execute_reply.started": "2021-12-20T18:02:51.376877Z"
    },
    "papermill": {
     "duration": 0.1264,
     "end_time": "2021-12-20T18:46:21.326602",
     "exception": false,
     "start_time": "2021-12-20T18:46:21.200202",
     "status": "completed"
    },
    "tags": []
   },
   "outputs": [
    {
     "data": {
      "text/html": [
       "<div>\n",
       "<style scoped>\n",
       "    .dataframe tbody tr th:only-of-type {\n",
       "        vertical-align: middle;\n",
       "    }\n",
       "\n",
       "    .dataframe tbody tr th {\n",
       "        vertical-align: top;\n",
       "    }\n",
       "\n",
       "    .dataframe thead th {\n",
       "        text-align: right;\n",
       "    }\n",
       "</style>\n",
       "<table border=\"1\" class=\"dataframe\">\n",
       "  <thead>\n",
       "    <tr style=\"text-align: right;\">\n",
       "      <th></th>\n",
       "      <th>passengerid</th>\n",
       "      <th>pclass</th>\n",
       "      <th>name</th>\n",
       "      <th>sex</th>\n",
       "      <th>age</th>\n",
       "      <th>sibsp</th>\n",
       "      <th>parch</th>\n",
       "      <th>ticket</th>\n",
       "      <th>fare</th>\n",
       "      <th>cabin</th>\n",
       "      <th>embarked</th>\n",
       "      <th>title</th>\n",
       "    </tr>\n",
       "  </thead>\n",
       "  <tbody>\n",
       "    <tr>\n",
       "      <th>88</th>\n",
       "      <td>980</td>\n",
       "      <td>3</td>\n",
       "      <td>O'Donoghue, Ms. Bridget</td>\n",
       "      <td>female</td>\n",
       "      <td>NaN</td>\n",
       "      <td>0</td>\n",
       "      <td>0</td>\n",
       "      <td>364856</td>\n",
       "      <td>7.75</td>\n",
       "      <td>NaN</td>\n",
       "      <td>Q</td>\n",
       "      <td>Ms.</td>\n",
       "    </tr>\n",
       "  </tbody>\n",
       "</table>\n",
       "</div>"
      ],
      "text/plain": [
       "    passengerid  pclass                     name     sex  age  sibsp  parch  \\\n",
       "88          980       3  O'Donoghue, Ms. Bridget  female  NaN      0      0   \n",
       "\n",
       "    ticket  fare cabin embarked title  \n",
       "88  364856  7.75   NaN        Q   Ms.  "
      ]
     },
     "execution_count": 30,
     "metadata": {},
     "output_type": "execute_result"
    }
   ],
   "source": [
    "df_test.loc[df_test[\"age\"].isna(), :]"
   ]
  },
  {
   "cell_type": "markdown",
   "id": "5cd16f39",
   "metadata": {
    "papermill": {
     "duration": 0.088824,
     "end_time": "2021-12-20T18:46:21.506472",
     "exception": false,
     "start_time": "2021-12-20T18:46:21.417648",
     "status": "completed"
    },
    "tags": []
   },
   "source": [
    "There is still a missing value for *age* in the test dataframe (because that person has a unique title in that dataset \"Ms\"). Let's fill it with the median of \"Ms.\" in the training dataset."
   ]
  },
  {
   "cell_type": "code",
   "execution_count": 31,
   "id": "1f2295fd",
   "metadata": {
    "execution": {
     "iopub.execute_input": "2021-12-20T18:46:21.691788Z",
     "iopub.status.busy": "2021-12-20T18:46:21.690800Z",
     "iopub.status.idle": "2021-12-20T18:46:21.695008Z",
     "shell.execute_reply": "2021-12-20T18:46:21.695589Z",
     "shell.execute_reply.started": "2021-12-20T18:06:08.491332Z"
    },
    "papermill": {
     "duration": 0.099206,
     "end_time": "2021-12-20T18:46:21.695780",
     "exception": false,
     "start_time": "2021-12-20T18:46:21.596574",
     "status": "completed"
    },
    "tags": []
   },
   "outputs": [],
   "source": [
    "df_test.loc[df_test[\"age\"].isna(), \"age\"] = df_train.groupby([\"title\"])['age'].median()[\"Ms.\"]"
   ]
  },
  {
   "cell_type": "code",
   "execution_count": 32,
   "id": "c9244290",
   "metadata": {
    "execution": {
     "iopub.execute_input": "2021-12-20T18:46:21.885202Z",
     "iopub.status.busy": "2021-12-20T18:46:21.884072Z",
     "iopub.status.idle": "2021-12-20T18:46:21.887704Z",
     "shell.execute_reply": "2021-12-20T18:46:21.888204Z",
     "shell.execute_reply.started": "2021-12-20T18:06:25.550141Z"
    },
    "papermill": {
     "duration": 0.099814,
     "end_time": "2021-12-20T18:46:21.888386",
     "exception": false,
     "start_time": "2021-12-20T18:46:21.788572",
     "status": "completed"
    },
    "tags": []
   },
   "outputs": [
    {
     "data": {
      "text/plain": [
       "0"
      ]
     },
     "execution_count": 32,
     "metadata": {},
     "output_type": "execute_result"
    }
   ],
   "source": [
    "df_test[\"age\"].isna().sum()"
   ]
  },
  {
   "cell_type": "markdown",
   "id": "bb04bbee",
   "metadata": {
    "papermill": {
     "duration": 0.089799,
     "end_time": "2021-12-20T18:46:22.071037",
     "exception": false,
     "start_time": "2021-12-20T18:46:21.981238",
     "status": "completed"
    },
    "tags": []
   },
   "source": [
    "### Embarked"
   ]
  },
  {
   "cell_type": "markdown",
   "id": "e8014d07",
   "metadata": {
    "id": "BV14hnTfUnMH",
    "papermill": {
     "duration": 0.088452,
     "end_time": "2021-12-20T18:46:22.247597",
     "exception": false,
     "start_time": "2021-12-20T18:46:22.159145",
     "status": "completed"
    },
    "tags": []
   },
   "source": [
    "Drop null values for \"embarked\" in the train dataset"
   ]
  },
  {
   "cell_type": "code",
   "execution_count": 33,
   "id": "aca5e981",
   "metadata": {
    "execution": {
     "iopub.execute_input": "2021-12-20T18:46:22.429748Z",
     "iopub.status.busy": "2021-12-20T18:46:22.428746Z",
     "iopub.status.idle": "2021-12-20T18:46:22.433439Z",
     "shell.execute_reply": "2021-12-20T18:46:22.434038Z",
     "shell.execute_reply.started": "2021-12-20T18:06:36.558245Z"
    },
    "id": "FLS7tpO9Dv0e",
    "papermill": {
     "duration": 0.098647,
     "end_time": "2021-12-20T18:46:22.434224",
     "exception": false,
     "start_time": "2021-12-20T18:46:22.335577",
     "status": "completed"
    },
    "tags": []
   },
   "outputs": [],
   "source": [
    "df_train.dropna(subset=[\"embarked\"], inplace=True)"
   ]
  },
  {
   "cell_type": "markdown",
   "id": "5962b7f5",
   "metadata": {
    "papermill": {
     "duration": 0.087783,
     "end_time": "2021-12-20T18:46:22.610738",
     "exception": false,
     "start_time": "2021-12-20T18:46:22.522955",
     "status": "completed"
    },
    "tags": []
   },
   "source": [
    "### Fare"
   ]
  },
  {
   "cell_type": "code",
   "execution_count": 34,
   "id": "56f9f669",
   "metadata": {
    "execution": {
     "iopub.execute_input": "2021-12-20T18:46:22.790649Z",
     "iopub.status.busy": "2021-12-20T18:46:22.789664Z",
     "iopub.status.idle": "2021-12-20T18:46:22.805035Z",
     "shell.execute_reply": "2021-12-20T18:46:22.805627Z",
     "shell.execute_reply.started": "2021-12-20T18:08:16.303420Z"
    },
    "papermill": {
     "duration": 0.107259,
     "end_time": "2021-12-20T18:46:22.805843",
     "exception": false,
     "start_time": "2021-12-20T18:46:22.698584",
     "status": "completed"
    },
    "tags": []
   },
   "outputs": [
    {
     "data": {
      "text/html": [
       "<div>\n",
       "<style scoped>\n",
       "    .dataframe tbody tr th:only-of-type {\n",
       "        vertical-align: middle;\n",
       "    }\n",
       "\n",
       "    .dataframe tbody tr th {\n",
       "        vertical-align: top;\n",
       "    }\n",
       "\n",
       "    .dataframe thead th {\n",
       "        text-align: right;\n",
       "    }\n",
       "</style>\n",
       "<table border=\"1\" class=\"dataframe\">\n",
       "  <thead>\n",
       "    <tr style=\"text-align: right;\">\n",
       "      <th></th>\n",
       "      <th>passengerid</th>\n",
       "      <th>pclass</th>\n",
       "      <th>name</th>\n",
       "      <th>sex</th>\n",
       "      <th>age</th>\n",
       "      <th>sibsp</th>\n",
       "      <th>parch</th>\n",
       "      <th>ticket</th>\n",
       "      <th>fare</th>\n",
       "      <th>cabin</th>\n",
       "      <th>embarked</th>\n",
       "      <th>title</th>\n",
       "    </tr>\n",
       "  </thead>\n",
       "  <tbody>\n",
       "    <tr>\n",
       "      <th>152</th>\n",
       "      <td>1044</td>\n",
       "      <td>3</td>\n",
       "      <td>Storey, Mr. Thomas</td>\n",
       "      <td>male</td>\n",
       "      <td>60.5</td>\n",
       "      <td>0</td>\n",
       "      <td>0</td>\n",
       "      <td>3701</td>\n",
       "      <td>NaN</td>\n",
       "      <td>NaN</td>\n",
       "      <td>S</td>\n",
       "      <td>Mr.</td>\n",
       "    </tr>\n",
       "  </tbody>\n",
       "</table>\n",
       "</div>"
      ],
      "text/plain": [
       "     passengerid  pclass                name   sex   age  sibsp  parch ticket  \\\n",
       "152         1044       3  Storey, Mr. Thomas  male  60.5      0      0   3701   \n",
       "\n",
       "     fare cabin embarked title  \n",
       "152   NaN   NaN        S   Mr.  "
      ]
     },
     "execution_count": 34,
     "metadata": {},
     "output_type": "execute_result"
    }
   ],
   "source": [
    "df_test.loc[df_test[\"fare\"].isna(), :]"
   ]
  },
  {
   "cell_type": "markdown",
   "id": "bfe6406a",
   "metadata": {
    "papermill": {
     "duration": 0.08786,
     "end_time": "2021-12-20T18:46:22.981409",
     "exception": false,
     "start_time": "2021-12-20T18:46:22.893549",
     "status": "completed"
    },
    "tags": []
   },
   "source": [
    "Let's impute the median fare of his category (male + 3rd class)"
   ]
  },
  {
   "cell_type": "code",
   "execution_count": 35,
   "id": "1dc0e566",
   "metadata": {
    "execution": {
     "iopub.execute_input": "2021-12-20T18:46:23.164616Z",
     "iopub.status.busy": "2021-12-20T18:46:23.163646Z",
     "iopub.status.idle": "2021-12-20T18:46:23.176519Z",
     "shell.execute_reply": "2021-12-20T18:46:23.175836Z",
     "shell.execute_reply.started": "2021-12-20T18:11:37.735184Z"
    },
    "papermill": {
     "duration": 0.105086,
     "end_time": "2021-12-20T18:46:23.176689",
     "exception": false,
     "start_time": "2021-12-20T18:46:23.071603",
     "status": "completed"
    },
    "tags": []
   },
   "outputs": [],
   "source": [
    "df_test[\"fare\"] = df_test.groupby([\"sex\", \"pclass\"])[\"fare\"].transform(lambda x: x.fillna(x.median()))"
   ]
  },
  {
   "cell_type": "markdown",
   "id": "0c41370a",
   "metadata": {
    "papermill": {
     "duration": 0.088507,
     "end_time": "2021-12-20T18:46:23.354712",
     "exception": false,
     "start_time": "2021-12-20T18:46:23.266205",
     "status": "completed"
    },
    "tags": []
   },
   "source": [
    "Let's check the missing values now"
   ]
  },
  {
   "cell_type": "code",
   "execution_count": 36,
   "id": "991e9f5d",
   "metadata": {
    "execution": {
     "iopub.execute_input": "2021-12-20T18:46:23.545028Z",
     "iopub.status.busy": "2021-12-20T18:46:23.544264Z",
     "iopub.status.idle": "2021-12-20T18:46:23.552268Z",
     "shell.execute_reply": "2021-12-20T18:46:23.553141Z",
     "shell.execute_reply.started": "2021-12-20T18:12:31.558569Z"
    },
    "papermill": {
     "duration": 0.109993,
     "end_time": "2021-12-20T18:46:23.553433",
     "exception": false,
     "start_time": "2021-12-20T18:46:23.443440",
     "status": "completed"
    },
    "tags": []
   },
   "outputs": [
    {
     "data": {
      "text/plain": [
       "passengerid      0\n",
       "survived         0\n",
       "pclass           0\n",
       "name             0\n",
       "sex              0\n",
       "age              0\n",
       "sibsp            0\n",
       "parch            0\n",
       "ticket           0\n",
       "fare             0\n",
       "cabin          687\n",
       "embarked         0\n",
       "title            0\n",
       "dtype: int64"
      ]
     },
     "execution_count": 36,
     "metadata": {},
     "output_type": "execute_result"
    }
   ],
   "source": [
    "df_train.isna().sum()"
   ]
  },
  {
   "cell_type": "code",
   "execution_count": 37,
   "id": "1d6e3ca8",
   "metadata": {
    "execution": {
     "iopub.execute_input": "2021-12-20T18:46:23.752292Z",
     "iopub.status.busy": "2021-12-20T18:46:23.751680Z",
     "iopub.status.idle": "2021-12-20T18:46:23.759310Z",
     "shell.execute_reply": "2021-12-20T18:46:23.759904Z",
     "shell.execute_reply.started": "2021-12-20T18:12:28.993447Z"
    },
    "papermill": {
     "duration": 0.100193,
     "end_time": "2021-12-20T18:46:23.760089",
     "exception": false,
     "start_time": "2021-12-20T18:46:23.659896",
     "status": "completed"
    },
    "tags": []
   },
   "outputs": [
    {
     "data": {
      "text/plain": [
       "passengerid      0\n",
       "pclass           0\n",
       "name             0\n",
       "sex              0\n",
       "age              0\n",
       "sibsp            0\n",
       "parch            0\n",
       "ticket           0\n",
       "fare             0\n",
       "cabin          327\n",
       "embarked         0\n",
       "title            0\n",
       "dtype: int64"
      ]
     },
     "execution_count": 37,
     "metadata": {},
     "output_type": "execute_result"
    }
   ],
   "source": [
    "df_test.isna().sum()"
   ]
  },
  {
   "cell_type": "markdown",
   "id": "8bd1162f",
   "metadata": {
    "id": "oARVoPl_uTT3",
    "papermill": {
     "duration": 0.092058,
     "end_time": "2021-12-20T18:46:23.941210",
     "exception": false,
     "start_time": "2021-12-20T18:46:23.849152",
     "status": "completed"
    },
    "tags": []
   },
   "source": [
    "## Exploratory Data Analysis (EDA) <a name=\"eda\"></a>\n",
    "\n",
    "Let's have a quick look at the influence of our variables on the target variable *survived*"
   ]
  },
  {
   "cell_type": "code",
   "execution_count": 38,
   "id": "aa5d4119",
   "metadata": {
    "execution": {
     "iopub.execute_input": "2021-12-20T18:46:24.125221Z",
     "iopub.status.busy": "2021-12-20T18:46:24.124405Z",
     "iopub.status.idle": "2021-12-20T18:46:24.140180Z",
     "shell.execute_reply": "2021-12-20T18:46:24.140786Z",
     "shell.execute_reply.started": "2021-12-20T18:12:33.825798Z"
    },
    "id": "eqzpMrM7ucvf",
    "outputId": "a08316c7-9377-4b4f-c9ef-42404a8fc883",
    "papermill": {
     "duration": 0.110347,
     "end_time": "2021-12-20T18:46:24.140993",
     "exception": false,
     "start_time": "2021-12-20T18:46:24.030646",
     "status": "completed"
    },
    "tags": []
   },
   "outputs": [
    {
     "data": {
      "text/html": [
       "<div>\n",
       "<style scoped>\n",
       "    .dataframe tbody tr th:only-of-type {\n",
       "        vertical-align: middle;\n",
       "    }\n",
       "\n",
       "    .dataframe tbody tr th {\n",
       "        vertical-align: top;\n",
       "    }\n",
       "\n",
       "    .dataframe thead th {\n",
       "        text-align: right;\n",
       "    }\n",
       "</style>\n",
       "<table border=\"1\" class=\"dataframe\">\n",
       "  <thead>\n",
       "    <tr style=\"text-align: right;\">\n",
       "      <th></th>\n",
       "      <th>passengerid</th>\n",
       "      <th>survived</th>\n",
       "      <th>pclass</th>\n",
       "      <th>name</th>\n",
       "      <th>sex</th>\n",
       "      <th>age</th>\n",
       "      <th>sibsp</th>\n",
       "      <th>parch</th>\n",
       "      <th>ticket</th>\n",
       "      <th>fare</th>\n",
       "      <th>cabin</th>\n",
       "      <th>embarked</th>\n",
       "      <th>title</th>\n",
       "    </tr>\n",
       "  </thead>\n",
       "  <tbody>\n",
       "    <tr>\n",
       "      <th>0</th>\n",
       "      <td>1</td>\n",
       "      <td>0</td>\n",
       "      <td>3</td>\n",
       "      <td>Braund, Mr. Owen Harris</td>\n",
       "      <td>male</td>\n",
       "      <td>22.0</td>\n",
       "      <td>1</td>\n",
       "      <td>0</td>\n",
       "      <td>A/5 21171</td>\n",
       "      <td>7.2500</td>\n",
       "      <td>NaN</td>\n",
       "      <td>S</td>\n",
       "      <td>Mr.</td>\n",
       "    </tr>\n",
       "    <tr>\n",
       "      <th>1</th>\n",
       "      <td>2</td>\n",
       "      <td>1</td>\n",
       "      <td>1</td>\n",
       "      <td>Cumings, Mrs. John Bradley (Florence Briggs Th...</td>\n",
       "      <td>female</td>\n",
       "      <td>38.0</td>\n",
       "      <td>1</td>\n",
       "      <td>0</td>\n",
       "      <td>PC 17599</td>\n",
       "      <td>71.2833</td>\n",
       "      <td>C85</td>\n",
       "      <td>C</td>\n",
       "      <td>Mrs.</td>\n",
       "    </tr>\n",
       "    <tr>\n",
       "      <th>2</th>\n",
       "      <td>3</td>\n",
       "      <td>1</td>\n",
       "      <td>3</td>\n",
       "      <td>Heikkinen, Miss. Laina</td>\n",
       "      <td>female</td>\n",
       "      <td>26.0</td>\n",
       "      <td>0</td>\n",
       "      <td>0</td>\n",
       "      <td>STON/O2. 3101282</td>\n",
       "      <td>7.9250</td>\n",
       "      <td>NaN</td>\n",
       "      <td>S</td>\n",
       "      <td>Miss.</td>\n",
       "    </tr>\n",
       "    <tr>\n",
       "      <th>3</th>\n",
       "      <td>4</td>\n",
       "      <td>1</td>\n",
       "      <td>1</td>\n",
       "      <td>Futrelle, Mrs. Jacques Heath (Lily May Peel)</td>\n",
       "      <td>female</td>\n",
       "      <td>35.0</td>\n",
       "      <td>1</td>\n",
       "      <td>0</td>\n",
       "      <td>113803</td>\n",
       "      <td>53.1000</td>\n",
       "      <td>C123</td>\n",
       "      <td>S</td>\n",
       "      <td>Mrs.</td>\n",
       "    </tr>\n",
       "    <tr>\n",
       "      <th>4</th>\n",
       "      <td>5</td>\n",
       "      <td>0</td>\n",
       "      <td>3</td>\n",
       "      <td>Allen, Mr. William Henry</td>\n",
       "      <td>male</td>\n",
       "      <td>35.0</td>\n",
       "      <td>0</td>\n",
       "      <td>0</td>\n",
       "      <td>373450</td>\n",
       "      <td>8.0500</td>\n",
       "      <td>NaN</td>\n",
       "      <td>S</td>\n",
       "      <td>Mr.</td>\n",
       "    </tr>\n",
       "  </tbody>\n",
       "</table>\n",
       "</div>"
      ],
      "text/plain": [
       "   passengerid  survived  pclass  \\\n",
       "0            1         0       3   \n",
       "1            2         1       1   \n",
       "2            3         1       3   \n",
       "3            4         1       1   \n",
       "4            5         0       3   \n",
       "\n",
       "                                                name     sex   age  sibsp  \\\n",
       "0                            Braund, Mr. Owen Harris    male  22.0      1   \n",
       "1  Cumings, Mrs. John Bradley (Florence Briggs Th...  female  38.0      1   \n",
       "2                             Heikkinen, Miss. Laina  female  26.0      0   \n",
       "3       Futrelle, Mrs. Jacques Heath (Lily May Peel)  female  35.0      1   \n",
       "4                           Allen, Mr. William Henry    male  35.0      0   \n",
       "\n",
       "   parch            ticket     fare cabin embarked  title  \n",
       "0      0         A/5 21171   7.2500   NaN        S    Mr.  \n",
       "1      0          PC 17599  71.2833   C85        C   Mrs.  \n",
       "2      0  STON/O2. 3101282   7.9250   NaN        S  Miss.  \n",
       "3      0            113803  53.1000  C123        S   Mrs.  \n",
       "4      0            373450   8.0500   NaN        S    Mr.  "
      ]
     },
     "execution_count": 38,
     "metadata": {},
     "output_type": "execute_result"
    }
   ],
   "source": [
    "df_train.head()"
   ]
  },
  {
   "cell_type": "code",
   "execution_count": 42,
   "id": "20469c6b",
   "metadata": {
    "execution": {
     "iopub.execute_input": "2021-12-20T18:46:24.329258Z",
     "iopub.status.busy": "2021-12-20T18:46:24.328477Z",
     "iopub.status.idle": "2021-12-20T18:46:30.439329Z",
     "shell.execute_reply": "2021-12-20T18:46:30.439840Z",
     "shell.execute_reply.started": "2021-12-20T18:12:37.176523Z"
    },
    "id": "ck5G8uW7sotV",
    "outputId": "c9e5742d-b5da-426b-fc06-533871e5938d",
    "papermill": {
     "duration": 6.208805,
     "end_time": "2021-12-20T18:46:30.440033",
     "exception": false,
     "start_time": "2021-12-20T18:46:24.231228",
     "status": "completed"
    },
    "tags": []
   },
   "outputs": [
    {
     "data": {
      "image/png": "[encoded data removed]",
      "text/plain": [
       "<Figure size 1296x576 with 8 Axes>"
      ]
     },
     "metadata": {
      "needs_background": "light"
     },
     "output_type": "display_data"
    }
   ],
   "source": [
    "cols = [\"pclass\", \"sex\", \"age\", \"sibsp\", \"parch\", \"fare\", \"embarked\", \"title\"]\n",
    "\n",
    "fig, axs = plt.subplots(2, 4, figsize=(18, 8))\n",
    "axs = axs.flatten()\n",
    "\n",
    "for i, col in enumerate(cols):\n",
    "  sns.barplot(x=col, y=\"survived\", data=df_train, ci=None, ax=axs[i])"
   ]
  },
  {
   "cell_type": "markdown",
   "id": "3aba04d4",
   "metadata": {
    "id": "7-sgBcWDwx2N",
    "papermill": {
     "duration": 0.095857,
     "end_time": "2021-12-20T18:46:30.635264",
     "exception": false,
     "start_time": "2021-12-20T18:46:30.539407",
     "status": "completed"
    },
    "tags": []
   },
   "source": [
    "According to these plots:\n",
    "* *pclass* and *sex* seem to have a strong effect on *survived*\n",
    "* *sibsp*, *parch* and *embarked* seem to have kind of an effect\n",
    "* *age* and *fare* need to be chunked to have a better idea\n",
    "* *title* seems to have an effect too"
   ]
  },
  {
   "cell_type": "markdown",
   "id": "57da6c18",
   "metadata": {
    "id": "LU1-Mpr5Danm",
    "papermill": {
     "duration": 0.095251,
     "end_time": "2021-12-20T18:46:30.826143",
     "exception": false,
     "start_time": "2021-12-20T18:46:30.730892",
     "status": "completed"
    },
    "tags": []
   },
   "source": [
    "## Feature engineering <a name=\"feature_engineering\"></a>"
   ]
  },
  {
   "cell_type": "markdown",
   "id": "48cda235",
   "metadata": {
    "id": "3tr0n2ZMGLm5",
    "papermill": {
     "duration": 0.095751,
     "end_time": "2021-12-20T18:46:31.017919",
     "exception": false,
     "start_time": "2021-12-20T18:46:30.922168",
     "status": "completed"
    },
    "tags": []
   },
   "source": [
    "So far, we've checked for any outliers and we've taken care of the missing values in _age_ and _embarked_. We added a _title_ column. We also quickly looked at the effect of our variables on *survived*.\n",
    "\n",
    "Lets now see what we can harness the potential of our variables.\n",
    "\n",
    "* _age_: make chunks of *age* (0-10, 10-20, ...)\n",
    "* _fare_: make chunks of *fare* (0-10, 10-20, ...)\n",
    "* _sibsp_\t& _parch_:\n",
    "  1. Make a column *n_relatives* by simply adding *sibsp* and *parch*\n",
    "  2. Make a binary column *has_relatives*, 1 if passsenger has at least one relative, 0 if not\n",
    "* _cabin_:\n",
    "  1. Make a column *n_cabins* to see how many relatives a passenger has\n",
    "  2. Make a binary column *has_cabin*, 1 if passsenger has at least one cabin, 0 if not\n",
    "  3. Get only the letter from *cabin* to have only a few categories (and add a label for the NaN)"
   ]
  },
  {
   "cell_type": "code",
   "execution_count": 43,
   "id": "60717350",
   "metadata": {
    "execution": {
     "iopub.execute_input": "2021-12-20T18:46:31.228407Z",
     "iopub.status.busy": "2021-12-20T18:46:31.227727Z",
     "iopub.status.idle": "2021-12-20T18:46:31.230448Z",
     "shell.execute_reply": "2021-12-20T18:46:31.230939Z",
     "shell.execute_reply.started": "2021-12-20T18:12:47.790800Z"
    },
    "id": "y4JzrWBrGIJR",
    "outputId": "4bdc39a7-bb69-4b09-9877-326f9db98c59",
    "papermill": {
     "duration": 0.115916,
     "end_time": "2021-12-20T18:46:31.231122",
     "exception": false,
     "start_time": "2021-12-20T18:46:31.115206",
     "status": "completed"
    },
    "tags": []
   },
   "outputs": [
    {
     "data": {
      "text/html": [
       "<div>\n",
       "<style scoped>\n",
       "    .dataframe tbody tr th:only-of-type {\n",
       "        vertical-align: middle;\n",
       "    }\n",
       "\n",
       "    .dataframe tbody tr th {\n",
       "        vertical-align: top;\n",
       "    }\n",
       "\n",
       "    .dataframe thead th {\n",
       "        text-align: right;\n",
       "    }\n",
       "</style>\n",
       "<table border=\"1\" class=\"dataframe\">\n",
       "  <thead>\n",
       "    <tr style=\"text-align: right;\">\n",
       "      <th></th>\n",
       "      <th>passengerid</th>\n",
       "      <th>survived</th>\n",
       "      <th>pclass</th>\n",
       "      <th>name</th>\n",
       "      <th>sex</th>\n",
       "      <th>age</th>\n",
       "      <th>sibsp</th>\n",
       "      <th>parch</th>\n",
       "      <th>ticket</th>\n",
       "      <th>fare</th>\n",
       "      <th>cabin</th>\n",
       "      <th>embarked</th>\n",
       "      <th>title</th>\n",
       "    </tr>\n",
       "  </thead>\n",
       "  <tbody>\n",
       "    <tr>\n",
       "      <th>0</th>\n",
       "      <td>1</td>\n",
       "      <td>0</td>\n",
       "      <td>3</td>\n",
       "      <td>Braund, Mr. Owen Harris</td>\n",
       "      <td>male</td>\n",
       "      <td>22.0</td>\n",
       "      <td>1</td>\n",
       "      <td>0</td>\n",
       "      <td>A/5 21171</td>\n",
       "      <td>7.2500</td>\n",
       "      <td>NaN</td>\n",
       "      <td>S</td>\n",
       "      <td>Mr.</td>\n",
       "    </tr>\n",
       "    <tr>\n",
       "      <th>1</th>\n",
       "      <td>2</td>\n",
       "      <td>1</td>\n",
       "      <td>1</td>\n",
       "      <td>Cumings, Mrs. John Bradley (Florence Briggs Th...</td>\n",
       "      <td>female</td>\n",
       "      <td>38.0</td>\n",
       "      <td>1</td>\n",
       "      <td>0</td>\n",
       "      <td>PC 17599</td>\n",
       "      <td>71.2833</td>\n",
       "      <td>C85</td>\n",
       "      <td>C</td>\n",
       "      <td>Mrs.</td>\n",
       "    </tr>\n",
       "    <tr>\n",
       "      <th>2</th>\n",
       "      <td>3</td>\n",
       "      <td>1</td>\n",
       "      <td>3</td>\n",
       "      <td>Heikkinen, Miss. Laina</td>\n",
       "      <td>female</td>\n",
       "      <td>26.0</td>\n",
       "      <td>0</td>\n",
       "      <td>0</td>\n",
       "      <td>STON/O2. 3101282</td>\n",
       "      <td>7.9250</td>\n",
       "      <td>NaN</td>\n",
       "      <td>S</td>\n",
       "      <td>Miss.</td>\n",
       "    </tr>\n",
       "    <tr>\n",
       "      <th>3</th>\n",
       "      <td>4</td>\n",
       "      <td>1</td>\n",
       "      <td>1</td>\n",
       "      <td>Futrelle, Mrs. Jacques Heath (Lily May Peel)</td>\n",
       "      <td>female</td>\n",
       "      <td>35.0</td>\n",
       "      <td>1</td>\n",
       "      <td>0</td>\n",
       "      <td>113803</td>\n",
       "      <td>53.1000</td>\n",
       "      <td>C123</td>\n",
       "      <td>S</td>\n",
       "      <td>Mrs.</td>\n",
       "    </tr>\n",
       "    <tr>\n",
       "      <th>4</th>\n",
       "      <td>5</td>\n",
       "      <td>0</td>\n",
       "      <td>3</td>\n",
       "      <td>Allen, Mr. William Henry</td>\n",
       "      <td>male</td>\n",
       "      <td>35.0</td>\n",
       "      <td>0</td>\n",
       "      <td>0</td>\n",
       "      <td>373450</td>\n",
       "      <td>8.0500</td>\n",
       "      <td>NaN</td>\n",
       "      <td>S</td>\n",
       "      <td>Mr.</td>\n",
       "    </tr>\n",
       "  </tbody>\n",
       "</table>\n",
       "</div>"
      ],
      "text/plain": [
       "   passengerid  survived  pclass  \\\n",
       "0            1         0       3   \n",
       "1            2         1       1   \n",
       "2            3         1       3   \n",
       "3            4         1       1   \n",
       "4            5         0       3   \n",
       "\n",
       "                                                name     sex   age  sibsp  \\\n",
       "0                            Braund, Mr. Owen Harris    male  22.0      1   \n",
       "1  Cumings, Mrs. John Bradley (Florence Briggs Th...  female  38.0      1   \n",
       "2                             Heikkinen, Miss. Laina  female  26.0      0   \n",
       "3       Futrelle, Mrs. Jacques Heath (Lily May Peel)  female  35.0      1   \n",
       "4                           Allen, Mr. William Henry    male  35.0      0   \n",
       "\n",
       "   parch            ticket     fare cabin embarked  title  \n",
       "0      0         A/5 21171   7.2500   NaN        S    Mr.  \n",
       "1      0          PC 17599  71.2833   C85        C   Mrs.  \n",
       "2      0  STON/O2. 3101282   7.9250   NaN        S  Miss.  \n",
       "3      0            113803  53.1000  C123        S   Mrs.  \n",
       "4      0            373450   8.0500   NaN        S    Mr.  "
      ]
     },
     "execution_count": 43,
     "metadata": {},
     "output_type": "execute_result"
    }
   ],
   "source": [
    "df_train.head()"
   ]
  },
  {
   "cell_type": "markdown",
   "id": "b36a7c2d",
   "metadata": {
    "id": "JwwYsreYIbPd",
    "papermill": {
     "duration": 0.096346,
     "end_time": "2021-12-20T18:46:31.427123",
     "exception": false,
     "start_time": "2021-12-20T18:46:31.330777",
     "status": "completed"
    },
    "tags": []
   },
   "source": [
    "### Age"
   ]
  },
  {
   "cell_type": "markdown",
   "id": "163751c6",
   "metadata": {
    "id": "at_7C74YQtX5",
    "papermill": {
     "duration": 0.09616,
     "end_time": "2021-12-20T18:46:31.619594",
     "exception": false,
     "start_time": "2021-12-20T18:46:31.523434",
     "status": "completed"
    },
    "tags": []
   },
   "source": [
    "Make age chunks"
   ]
  },
  {
   "cell_type": "code",
   "execution_count": 44,
   "id": "f368cf23",
   "metadata": {
    "execution": {
     "iopub.execute_input": "2021-12-20T18:46:31.824415Z",
     "iopub.status.busy": "2021-12-20T18:46:31.818130Z",
     "iopub.status.idle": "2021-12-20T18:46:31.830168Z",
     "shell.execute_reply": "2021-12-20T18:46:31.830722Z",
     "shell.execute_reply.started": "2021-12-20T18:13:11.561362Z"
    },
    "id": "4XHIZLoaIac0",
    "papermill": {
     "duration": 0.114962,
     "end_time": "2021-12-20T18:46:31.830924",
     "exception": false,
     "start_time": "2021-12-20T18:46:31.715962",
     "status": "completed"
    },
    "tags": []
   },
   "outputs": [],
   "source": [
    "for df in [df_train, df_test]:\n",
    "    df['age_chunk'] = pd.cut(x=df[\"age\"],\n",
    "                             bins=np.arange(0, 81, 10))"
   ]
  },
  {
   "cell_type": "code",
   "execution_count": 46,
   "id": "6b1b6397",
   "metadata": {
    "execution": {
     "iopub.execute_input": "2021-12-20T18:46:32.038196Z",
     "iopub.status.busy": "2021-12-20T18:46:32.029467Z",
     "iopub.status.idle": "2021-12-20T18:46:32.264944Z",
     "shell.execute_reply": "2021-12-20T18:46:32.265403Z",
     "shell.execute_reply.started": "2021-12-20T18:13:16.465867Z"
    },
    "id": "Z_7i3KVcynxQ",
    "outputId": "78041585-86f1-4ac3-88be-e49b01fec64c",
    "papermill": {
     "duration": 0.338921,
     "end_time": "2021-12-20T18:46:32.265595",
     "exception": false,
     "start_time": "2021-12-20T18:46:31.926674",
     "status": "completed"
    },
    "tags": []
   },
   "outputs": [
    {
     "data": {
      "image/png": "[encoded data removed]",
      "text/plain": [
       "<Figure size 576x360 with 1 Axes>"
      ]
     },
     "metadata": {
      "needs_background": "light"
     },
     "output_type": "display_data"
    }
   ],
   "source": [
    "sns.barplot(x=\"age_chunk\", y=\"survived\", data=df_train, ci=None);"
   ]
  },
  {
   "cell_type": "markdown",
   "id": "b323c184",
   "metadata": {
    "id": "EGIfbCv6yl3U",
    "papermill": {
     "duration": 0.097393,
     "end_time": "2021-12-20T18:46:32.462129",
     "exception": false,
     "start_time": "2021-12-20T18:46:32.364736",
     "status": "completed"
    },
    "tags": []
   },
   "source": [
    "*age_chunk* seems to have somewhat of a negative effect on the survival rate"
   ]
  },
  {
   "cell_type": "markdown",
   "id": "cd35f0b4",
   "metadata": {
    "id": "MkFZLA5bxaim",
    "papermill": {
     "duration": 0.096907,
     "end_time": "2021-12-20T18:46:32.657015",
     "exception": false,
     "start_time": "2021-12-20T18:46:32.560108",
     "status": "completed"
    },
    "tags": []
   },
   "source": [
    "### Fare"
   ]
  },
  {
   "cell_type": "markdown",
   "id": "698c68ca",
   "metadata": {
    "id": "c2vnEluLxaim",
    "papermill": {
     "duration": 0.096682,
     "end_time": "2021-12-20T18:46:32.850743",
     "exception": false,
     "start_time": "2021-12-20T18:46:32.754061",
     "status": "completed"
    },
    "tags": []
   },
   "source": [
    "Make fare chunks"
   ]
  },
  {
   "cell_type": "code",
   "execution_count": 47,
   "id": "09f9ad22",
   "metadata": {
    "execution": {
     "iopub.execute_input": "2021-12-20T18:46:33.052596Z",
     "iopub.status.busy": "2021-12-20T18:46:33.051557Z",
     "iopub.status.idle": "2021-12-20T18:46:33.062642Z",
     "shell.execute_reply": "2021-12-20T18:46:33.063134Z",
     "shell.execute_reply.started": "2021-12-20T18:13:26.584339Z"
    },
    "id": "GwIeurh-xain",
    "papermill": {
     "duration": 0.116118,
     "end_time": "2021-12-20T18:46:33.063524",
     "exception": false,
     "start_time": "2021-12-20T18:46:32.947406",
     "status": "completed"
    },
    "tags": []
   },
   "outputs": [],
   "source": [
    "for df in [df_train, df_test]:\n",
    "    df['fare_chunk'] = pd.cut(x=df[\"fare\"],\n",
    "                              bins=list(np.arange(0, 176, 15)) + [600],\n",
    "                              right=False)"
   ]
  },
  {
   "cell_type": "code",
   "execution_count": 50,
   "id": "15623c04",
   "metadata": {
    "execution": {
     "iopub.execute_input": "2021-12-20T18:46:33.262533Z",
     "iopub.status.busy": "2021-12-20T18:46:33.261488Z",
     "iopub.status.idle": "2021-12-20T18:46:33.540955Z",
     "shell.execute_reply": "2021-12-20T18:46:33.541448Z",
     "shell.execute_reply.started": "2021-12-20T18:13:32.366313Z"
    },
    "id": "rkczTl_-xdQL",
    "outputId": "2e7e4bc0-46a4-43ae-8c02-99235614ebae",
    "papermill": {
     "duration": 0.380054,
     "end_time": "2021-12-20T18:46:33.541640",
     "exception": false,
     "start_time": "2021-12-20T18:46:33.161586",
     "status": "completed"
    },
    "tags": []
   },
   "outputs": [
    {
     "data": {
      "image/png": "[encoded data removed]",
      "text/plain": [
       "<Figure size 864x432 with 1 Axes>"
      ]
     },
     "metadata": {
      "needs_background": "light"
     },
     "output_type": "display_data"
    }
   ],
   "source": [
    "plt.figure(figsize=(12, 6))\n",
    "sns.barplot(x=\"fare_chunk\", y=\"survived\", data=df_train, ci=None);"
   ]
  },
  {
   "cell_type": "markdown",
   "id": "1054a164",
   "metadata": {
    "id": "FJEQh28byekO",
    "papermill": {
     "duration": 0.097816,
     "end_time": "2021-12-20T18:46:33.737069",
     "exception": false,
     "start_time": "2021-12-20T18:46:33.639253",
     "status": "completed"
    },
    "tags": []
   },
   "source": [
    "Looks like *fare_chunk* has a medium positive effect on the survived rate!"
   ]
  },
  {
   "cell_type": "markdown",
   "id": "98d43260",
   "metadata": {
    "id": "aQFeOhh8kpv6",
    "papermill": {
     "duration": 0.097651,
     "end_time": "2021-12-20T18:46:33.934182",
     "exception": false,
     "start_time": "2021-12-20T18:46:33.836531",
     "status": "completed"
    },
    "tags": []
   },
   "source": [
    "### sibsp & parch"
   ]
  },
  {
   "cell_type": "markdown",
   "id": "a01f0c46",
   "metadata": {
    "id": "yYWU7vIAPQPd",
    "papermill": {
     "duration": 0.099823,
     "end_time": "2021-12-20T18:46:34.133899",
     "exception": false,
     "start_time": "2021-12-20T18:46:34.034076",
     "status": "completed"
    },
    "tags": []
   },
   "source": [
    "Make a column n_relatives by simply adding *sibsp* and *parch*"
   ]
  },
  {
   "cell_type": "code",
   "execution_count": 51,
   "id": "4f3f865e",
   "metadata": {
    "execution": {
     "iopub.execute_input": "2021-12-20T18:46:34.339479Z",
     "iopub.status.busy": "2021-12-20T18:46:34.338731Z",
     "iopub.status.idle": "2021-12-20T18:46:34.347568Z",
     "shell.execute_reply": "2021-12-20T18:46:34.347062Z",
     "shell.execute_reply.started": "2021-12-20T18:13:45.536554Z"
    },
    "id": "r1Lujq7ZNuVD",
    "outputId": "a6116889-db22-4d3b-de5d-3efeacba6c0c",
    "papermill": {
     "duration": 0.115884,
     "end_time": "2021-12-20T18:46:34.347731",
     "exception": false,
     "start_time": "2021-12-20T18:46:34.231847",
     "status": "completed"
    },
    "tags": []
   },
   "outputs": [
    {
     "data": {
      "text/html": [
       "<div>\n",
       "<style scoped>\n",
       "    .dataframe tbody tr th:only-of-type {\n",
       "        vertical-align: middle;\n",
       "    }\n",
       "\n",
       "    .dataframe tbody tr th {\n",
       "        vertical-align: top;\n",
       "    }\n",
       "\n",
       "    .dataframe thead th {\n",
       "        text-align: right;\n",
       "    }\n",
       "</style>\n",
       "<table border=\"1\" class=\"dataframe\">\n",
       "  <thead>\n",
       "    <tr style=\"text-align: right;\">\n",
       "      <th></th>\n",
       "      <th>sibsp</th>\n",
       "      <th>parch</th>\n",
       "      <th>n_relatives</th>\n",
       "    </tr>\n",
       "  </thead>\n",
       "  <tbody>\n",
       "    <tr>\n",
       "      <th>0</th>\n",
       "      <td>1</td>\n",
       "      <td>0</td>\n",
       "      <td>1</td>\n",
       "    </tr>\n",
       "    <tr>\n",
       "      <th>1</th>\n",
       "      <td>1</td>\n",
       "      <td>0</td>\n",
       "      <td>1</td>\n",
       "    </tr>\n",
       "    <tr>\n",
       "      <th>2</th>\n",
       "      <td>0</td>\n",
       "      <td>0</td>\n",
       "      <td>0</td>\n",
       "    </tr>\n",
       "    <tr>\n",
       "      <th>3</th>\n",
       "      <td>1</td>\n",
       "      <td>0</td>\n",
       "      <td>1</td>\n",
       "    </tr>\n",
       "    <tr>\n",
       "      <th>4</th>\n",
       "      <td>0</td>\n",
       "      <td>0</td>\n",
       "      <td>0</td>\n",
       "    </tr>\n",
       "  </tbody>\n",
       "</table>\n",
       "</div>"
      ],
      "text/plain": [
       "   sibsp  parch  n_relatives\n",
       "0      1      0            1\n",
       "1      1      0            1\n",
       "2      0      0            0\n",
       "3      1      0            1\n",
       "4      0      0            0"
      ]
     },
     "execution_count": 51,
     "metadata": {},
     "output_type": "execute_result"
    }
   ],
   "source": [
    "for df in [df_train, df_test]:\n",
    "    df[\"n_relatives\"] = df[\"sibsp\"] + df[\"parch\"]\n",
    "\n",
    "df_train[[\"sibsp\", \"parch\", \"n_relatives\"]].head()"
   ]
  },
  {
   "cell_type": "code",
   "execution_count": 52,
   "id": "3bf325eb",
   "metadata": {
    "execution": {
     "iopub.execute_input": "2021-12-20T18:46:34.584263Z",
     "iopub.status.busy": "2021-12-20T18:46:34.583188Z",
     "iopub.status.idle": "2021-12-20T18:46:34.833754Z",
     "shell.execute_reply": "2021-12-20T18:46:34.832704Z"
    },
    "id": "zayzpfqdzFrt",
    "outputId": "af5c3882-9f51-44da-dd0d-3c0e28b0938e",
    "papermill": {
     "duration": 0.380278,
     "end_time": "2021-12-20T18:46:34.833933",
     "exception": false,
     "start_time": "2021-12-20T18:46:34.453655",
     "status": "completed"
    },
    "tags": []
   },
   "outputs": [
    {
     "data": {
      "image/png": "[encoded data removed]",
      "text/plain": [
       "<Figure size 576x360 with 1 Axes>"
      ]
     },
     "metadata": {
      "needs_background": "light"
     },
     "output_type": "display_data"
    }
   ],
   "source": [
    "sns.barplot(x=\"n_relatives\", y=\"survived\", data=df_train, ci=None);"
   ]
  },
  {
   "cell_type": "markdown",
   "id": "7a7fe276",
   "metadata": {
    "id": "8R9nqFDmzN06",
    "papermill": {
     "duration": 0.099993,
     "end_time": "2021-12-20T18:46:35.033648",
     "exception": false,
     "start_time": "2021-12-20T18:46:34.933655",
     "status": "completed"
    },
    "tags": []
   },
   "source": [
    "People with 1 to 3 relatives survived much better than the others!"
   ]
  },
  {
   "cell_type": "markdown",
   "id": "2bc31f80",
   "metadata": {
    "id": "8SXtfmDgQxNf",
    "papermill": {
     "duration": 0.101136,
     "end_time": "2021-12-20T18:46:35.239467",
     "exception": false,
     "start_time": "2021-12-20T18:46:35.138331",
     "status": "completed"
    },
    "tags": []
   },
   "source": [
    "Make a binary column has_relatives with *sibsp* and *parch*, 1 if passsenger has at least one relative, 0 if not"
   ]
  },
  {
   "cell_type": "code",
   "execution_count": 53,
   "id": "729b2d0e",
   "metadata": {
    "execution": {
     "iopub.execute_input": "2021-12-20T18:46:35.456147Z",
     "iopub.status.busy": "2021-12-20T18:46:35.451351Z",
     "iopub.status.idle": "2021-12-20T18:46:35.459277Z",
     "shell.execute_reply": "2021-12-20T18:46:35.459835Z",
     "shell.execute_reply.started": "2021-12-20T18:13:59.336272Z"
    },
    "id": "KEUw87WfkLEq",
    "outputId": "c07ab782-83d0-4ecd-c1df-f5afa88af5b3",
    "papermill": {
     "duration": 0.119184,
     "end_time": "2021-12-20T18:46:35.460029",
     "exception": false,
     "start_time": "2021-12-20T18:46:35.340845",
     "status": "completed"
    },
    "tags": []
   },
   "outputs": [
    {
     "data": {
      "text/html": [
       "<div>\n",
       "<style scoped>\n",
       "    .dataframe tbody tr th:only-of-type {\n",
       "        vertical-align: middle;\n",
       "    }\n",
       "\n",
       "    .dataframe tbody tr th {\n",
       "        vertical-align: top;\n",
       "    }\n",
       "\n",
       "    .dataframe thead th {\n",
       "        text-align: right;\n",
       "    }\n",
       "</style>\n",
       "<table border=\"1\" class=\"dataframe\">\n",
       "  <thead>\n",
       "    <tr style=\"text-align: right;\">\n",
       "      <th></th>\n",
       "      <th>n_relatives</th>\n",
       "      <th>has_relatives</th>\n",
       "    </tr>\n",
       "  </thead>\n",
       "  <tbody>\n",
       "    <tr>\n",
       "      <th>0</th>\n",
       "      <td>1</td>\n",
       "      <td>1</td>\n",
       "    </tr>\n",
       "    <tr>\n",
       "      <th>1</th>\n",
       "      <td>1</td>\n",
       "      <td>1</td>\n",
       "    </tr>\n",
       "    <tr>\n",
       "      <th>2</th>\n",
       "      <td>0</td>\n",
       "      <td>0</td>\n",
       "    </tr>\n",
       "    <tr>\n",
       "      <th>3</th>\n",
       "      <td>1</td>\n",
       "      <td>1</td>\n",
       "    </tr>\n",
       "    <tr>\n",
       "      <th>4</th>\n",
       "      <td>0</td>\n",
       "      <td>0</td>\n",
       "    </tr>\n",
       "  </tbody>\n",
       "</table>\n",
       "</div>"
      ],
      "text/plain": [
       "   n_relatives  has_relatives\n",
       "0            1              1\n",
       "1            1              1\n",
       "2            0              0\n",
       "3            1              1\n",
       "4            0              0"
      ]
     },
     "execution_count": 53,
     "metadata": {},
     "output_type": "execute_result"
    }
   ],
   "source": [
    "for df in [df_train, df_test]:\n",
    "    df[\"has_relatives\"] = np.where(df[\"n_relatives\"] > 0, 1, 0)\n",
    "\n",
    "df_train[[\"n_relatives\", \"has_relatives\"]].head()"
   ]
  },
  {
   "cell_type": "code",
   "execution_count": 54,
   "id": "ac55c80e",
   "metadata": {
    "execution": {
     "iopub.execute_input": "2021-12-20T18:46:35.665976Z",
     "iopub.status.busy": "2021-12-20T18:46:35.665329Z",
     "iopub.status.idle": "2021-12-20T18:46:36.070380Z",
     "shell.execute_reply": "2021-12-20T18:46:36.070856Z",
     "shell.execute_reply.started": "2021-12-20T18:14:03.390120Z"
    },
    "id": "QfBc_kQ5zfV9",
    "outputId": "fd531e07-b39d-4a24-8282-96e7f495fa23",
    "papermill": {
     "duration": 0.50998,
     "end_time": "2021-12-20T18:46:36.071064",
     "exception": false,
     "start_time": "2021-12-20T18:46:35.561084",
     "status": "completed"
    },
    "tags": []
   },
   "outputs": [
    {
     "data": {
      "image/png": "[encoded data removed]",
      "text/plain": [
       "<Figure size 576x360 with 1 Axes>"
      ]
     },
     "metadata": {
      "needs_background": "light"
     },
     "output_type": "display_data"
    }
   ],
   "source": [
    "sns.barplot(x=\"has_relatives\", y=\"survived\", data=df_train, ci=None);"
   ]
  },
  {
   "cell_type": "markdown",
   "id": "28d60dea",
   "metadata": {
    "id": "gwHHOTP3zr5N",
    "papermill": {
     "duration": 0.101027,
     "end_time": "2021-12-20T18:46:36.274641",
     "exception": false,
     "start_time": "2021-12-20T18:46:36.173614",
     "status": "completed"
    },
    "tags": []
   },
   "source": [
    "With this binary variable, the effect of having a relative is clear. But we might lose information by doing this. I think it is more relevant to use a the previous *n_relatives* variable for relatives; we'll see with the correlation matrix."
   ]
  },
  {
   "cell_type": "markdown",
   "id": "8df01467",
   "metadata": {
    "id": "Ti4WZ4Sgge8B",
    "papermill": {
     "duration": 0.104348,
     "end_time": "2021-12-20T18:46:36.480723",
     "exception": false,
     "start_time": "2021-12-20T18:46:36.376375",
     "status": "completed"
    },
    "tags": []
   },
   "source": [
    "### cabin"
   ]
  },
  {
   "cell_type": "markdown",
   "id": "e26471bd",
   "metadata": {
    "id": "7kZaeu35nBCc",
    "papermill": {
     "duration": 0.10239,
     "end_time": "2021-12-20T18:46:36.691648",
     "exception": false,
     "start_time": "2021-12-20T18:46:36.589258",
     "status": "completed"
    },
    "tags": []
   },
   "source": [
    "Make a column *n_cabins* to see how many cabins a passenger has\n"
   ]
  },
  {
   "cell_type": "code",
   "execution_count": 55,
   "id": "6143ff84",
   "metadata": {
    "execution": {
     "iopub.execute_input": "2021-12-20T18:46:36.902860Z",
     "iopub.status.busy": "2021-12-20T18:46:36.902142Z",
     "iopub.status.idle": "2021-12-20T18:46:36.912358Z",
     "shell.execute_reply": "2021-12-20T18:46:36.912961Z",
     "shell.execute_reply.started": "2021-12-20T18:14:15.667007Z"
    },
    "id": "_s6Oa_1hnCDj",
    "outputId": "99789df7-2407-4780-ad6c-c174a1e9c679",
    "papermill": {
     "duration": 0.119982,
     "end_time": "2021-12-20T18:46:36.913153",
     "exception": false,
     "start_time": "2021-12-20T18:46:36.793171",
     "status": "completed"
    },
    "tags": []
   },
   "outputs": [
    {
     "data": {
      "text/html": [
       "<div>\n",
       "<style scoped>\n",
       "    .dataframe tbody tr th:only-of-type {\n",
       "        vertical-align: middle;\n",
       "    }\n",
       "\n",
       "    .dataframe tbody tr th {\n",
       "        vertical-align: top;\n",
       "    }\n",
       "\n",
       "    .dataframe thead th {\n",
       "        text-align: right;\n",
       "    }\n",
       "</style>\n",
       "<table border=\"1\" class=\"dataframe\">\n",
       "  <thead>\n",
       "    <tr style=\"text-align: right;\">\n",
       "      <th></th>\n",
       "      <th>cabin</th>\n",
       "      <th>n_cabins</th>\n",
       "    </tr>\n",
       "  </thead>\n",
       "  <tbody>\n",
       "    <tr>\n",
       "      <th>0</th>\n",
       "      <td>NaN</td>\n",
       "      <td>0</td>\n",
       "    </tr>\n",
       "    <tr>\n",
       "      <th>1</th>\n",
       "      <td>C85</td>\n",
       "      <td>1</td>\n",
       "    </tr>\n",
       "    <tr>\n",
       "      <th>2</th>\n",
       "      <td>NaN</td>\n",
       "      <td>0</td>\n",
       "    </tr>\n",
       "    <tr>\n",
       "      <th>3</th>\n",
       "      <td>C123</td>\n",
       "      <td>1</td>\n",
       "    </tr>\n",
       "    <tr>\n",
       "      <th>4</th>\n",
       "      <td>NaN</td>\n",
       "      <td>0</td>\n",
       "    </tr>\n",
       "  </tbody>\n",
       "</table>\n",
       "</div>"
      ],
      "text/plain": [
       "  cabin  n_cabins\n",
       "0   NaN         0\n",
       "1   C85         1\n",
       "2   NaN         0\n",
       "3  C123         1\n",
       "4   NaN         0"
      ]
     },
     "execution_count": 55,
     "metadata": {},
     "output_type": "execute_result"
    }
   ],
   "source": [
    "for df in [df_train, df_test]:\n",
    "    df[\"n_cabins\"] = [0 if pd.isna(x) else len(x.split()) for x in df[\"cabin\"]]\n",
    "    \n",
    "df_train[[\"cabin\", \"n_cabins\"]].head()"
   ]
  },
  {
   "cell_type": "code",
   "execution_count": 56,
   "id": "6a452a7f",
   "metadata": {
    "execution": {
     "iopub.execute_input": "2021-12-20T18:46:37.121934Z",
     "iopub.status.busy": "2021-12-20T18:46:37.121310Z",
     "iopub.status.idle": "2021-12-20T18:46:37.318837Z",
     "shell.execute_reply": "2021-12-20T18:46:37.319364Z"
    },
    "id": "LjiGOV3L0PMG",
    "outputId": "fac2ba33-6979-4024-ca1c-fedc95adbb19",
    "papermill": {
     "duration": 0.304145,
     "end_time": "2021-12-20T18:46:37.319667",
     "exception": false,
     "start_time": "2021-12-20T18:46:37.015522",
     "status": "completed"
    },
    "tags": []
   },
   "outputs": [
    {
     "data": {
      "image/png": "[encoded data removed]",
      "text/plain": [
       "<Figure size 576x360 with 1 Axes>"
      ]
     },
     "metadata": {
      "needs_background": "light"
     },
     "output_type": "display_data"
    }
   ],
   "source": [
    "sns.barplot(x=\"n_cabins\", y=\"survived\", data=df_train, ci=None);"
   ]
  },
  {
   "cell_type": "markdown",
   "id": "1e6fd1b1",
   "metadata": {
    "id": "NHZa9P_f0VV-",
    "papermill": {
     "duration": 0.10646,
     "end_time": "2021-12-20T18:46:37.530056",
     "exception": false,
     "start_time": "2021-12-20T18:46:37.423596",
     "status": "completed"
    },
    "tags": []
   },
   "source": [
    "People with 1+ cabins survived better than people with none! In this case, we can use a binary variable has/has not cabin (see next)"
   ]
  },
  {
   "cell_type": "markdown",
   "id": "3c8e30ca",
   "metadata": {
    "id": "32fEKYU3RAAg",
    "papermill": {
     "duration": 0.101976,
     "end_time": "2021-12-20T18:46:37.736069",
     "exception": false,
     "start_time": "2021-12-20T18:46:37.634093",
     "status": "completed"
    },
    "tags": []
   },
   "source": [
    "Make a binary column *has_cabin*, 1 if passsenger has at least one cabin, 0 if not\n",
    "\n"
   ]
  },
  {
   "cell_type": "code",
   "execution_count": 57,
   "id": "9c1abf82",
   "metadata": {
    "execution": {
     "iopub.execute_input": "2021-12-20T18:46:37.953974Z",
     "iopub.status.busy": "2021-12-20T18:46:37.948565Z",
     "iopub.status.idle": "2021-12-20T18:46:37.956736Z",
     "shell.execute_reply": "2021-12-20T18:46:37.957218Z",
     "shell.execute_reply.started": "2021-12-20T18:14:27.167655Z"
    },
    "id": "AW2ZFqCDgZuy",
    "outputId": "ccce8a88-9cd0-4029-ae12-6bd87b20f207",
    "papermill": {
     "duration": 0.119023,
     "end_time": "2021-12-20T18:46:37.957411",
     "exception": false,
     "start_time": "2021-12-20T18:46:37.838388",
     "status": "completed"
    },
    "tags": []
   },
   "outputs": [
    {
     "data": {
      "text/html": [
       "<div>\n",
       "<style scoped>\n",
       "    .dataframe tbody tr th:only-of-type {\n",
       "        vertical-align: middle;\n",
       "    }\n",
       "\n",
       "    .dataframe tbody tr th {\n",
       "        vertical-align: top;\n",
       "    }\n",
       "\n",
       "    .dataframe thead th {\n",
       "        text-align: right;\n",
       "    }\n",
       "</style>\n",
       "<table border=\"1\" class=\"dataframe\">\n",
       "  <thead>\n",
       "    <tr style=\"text-align: right;\">\n",
       "      <th></th>\n",
       "      <th>n_cabins</th>\n",
       "      <th>has_cabin</th>\n",
       "    </tr>\n",
       "  </thead>\n",
       "  <tbody>\n",
       "    <tr>\n",
       "      <th>0</th>\n",
       "      <td>0</td>\n",
       "      <td>0</td>\n",
       "    </tr>\n",
       "    <tr>\n",
       "      <th>1</th>\n",
       "      <td>1</td>\n",
       "      <td>1</td>\n",
       "    </tr>\n",
       "    <tr>\n",
       "      <th>2</th>\n",
       "      <td>0</td>\n",
       "      <td>0</td>\n",
       "    </tr>\n",
       "    <tr>\n",
       "      <th>3</th>\n",
       "      <td>1</td>\n",
       "      <td>1</td>\n",
       "    </tr>\n",
       "    <tr>\n",
       "      <th>4</th>\n",
       "      <td>0</td>\n",
       "      <td>0</td>\n",
       "    </tr>\n",
       "  </tbody>\n",
       "</table>\n",
       "</div>"
      ],
      "text/plain": [
       "   n_cabins  has_cabin\n",
       "0         0          0\n",
       "1         1          1\n",
       "2         0          0\n",
       "3         1          1\n",
       "4         0          0"
      ]
     },
     "execution_count": 57,
     "metadata": {},
     "output_type": "execute_result"
    }
   ],
   "source": [
    "for df in [df_train, df_test]:\n",
    "    df[\"has_cabin\"] = np.where(df[\"n_cabins\"] > 0, 1, 0)\n",
    "\n",
    "df_train[[\"n_cabins\", \"has_cabin\"]].head()"
   ]
  },
  {
   "cell_type": "code",
   "execution_count": 58,
   "id": "adf1dbdb",
   "metadata": {
    "execution": {
     "iopub.execute_input": "2021-12-20T18:46:38.173611Z",
     "iopub.status.busy": "2021-12-20T18:46:38.172629Z",
     "iopub.status.idle": "2021-12-20T18:46:38.348602Z",
     "shell.execute_reply": "2021-12-20T18:46:38.348080Z",
     "shell.execute_reply.started": "2021-12-20T18:14:28.773844Z"
    },
    "id": "ImAeNSXK0cH_",
    "outputId": "4527e70a-45bc-4504-8ed3-ba07faf73eeb",
    "papermill": {
     "duration": 0.287892,
     "end_time": "2021-12-20T18:46:38.348778",
     "exception": false,
     "start_time": "2021-12-20T18:46:38.060886",
     "status": "completed"
    },
    "tags": []
   },
   "outputs": [
    {
     "data": {
      "image/png": "[encoded data removed]",
      "text/plain": [
       "<Figure size 576x360 with 1 Axes>"
      ]
     },
     "metadata": {
      "needs_background": "light"
     },
     "output_type": "display_data"
    }
   ],
   "source": [
    "sns.barplot(x=\"has_cabin\", y=\"survived\", data=df_train, ci=None);"
   ]
  },
  {
   "cell_type": "markdown",
   "id": "ed8a4049",
   "metadata": {
    "id": "KkC3tDCHRPaI",
    "papermill": {
     "duration": 0.104768,
     "end_time": "2021-12-20T18:46:38.559379",
     "exception": false,
     "start_time": "2021-12-20T18:46:38.454611",
     "status": "completed"
    },
    "tags": []
   },
   "source": [
    "Get only the letter from *cabin* to have only a few categories (and add a label \"N\" for the NaN)"
   ]
  },
  {
   "cell_type": "code",
   "execution_count": 59,
   "id": "b1e868be",
   "metadata": {
    "execution": {
     "iopub.execute_input": "2021-12-20T18:46:38.770715Z",
     "iopub.status.busy": "2021-12-20T18:46:38.770065Z",
     "iopub.status.idle": "2021-12-20T18:46:38.783496Z",
     "shell.execute_reply": "2021-12-20T18:46:38.784090Z",
     "shell.execute_reply.started": "2021-12-20T18:14:43.834487Z"
    },
    "id": "BTu29nWGRO04",
    "outputId": "0cc0e0ef-fc9d-406c-b48b-314096e1d35e",
    "papermill": {
     "duration": 0.121109,
     "end_time": "2021-12-20T18:46:38.784308",
     "exception": false,
     "start_time": "2021-12-20T18:46:38.663199",
     "status": "completed"
    },
    "tags": []
   },
   "outputs": [
    {
     "data": {
      "text/html": [
       "<div>\n",
       "<style scoped>\n",
       "    .dataframe tbody tr th:only-of-type {\n",
       "        vertical-align: middle;\n",
       "    }\n",
       "\n",
       "    .dataframe tbody tr th {\n",
       "        vertical-align: top;\n",
       "    }\n",
       "\n",
       "    .dataframe thead th {\n",
       "        text-align: right;\n",
       "    }\n",
       "</style>\n",
       "<table border=\"1\" class=\"dataframe\">\n",
       "  <thead>\n",
       "    <tr style=\"text-align: right;\">\n",
       "      <th></th>\n",
       "      <th>cabin</th>\n",
       "      <th>cabin_letter</th>\n",
       "    </tr>\n",
       "  </thead>\n",
       "  <tbody>\n",
       "    <tr>\n",
       "      <th>0</th>\n",
       "      <td>NaN</td>\n",
       "      <td>N</td>\n",
       "    </tr>\n",
       "    <tr>\n",
       "      <th>1</th>\n",
       "      <td>C85</td>\n",
       "      <td>C</td>\n",
       "    </tr>\n",
       "    <tr>\n",
       "      <th>2</th>\n",
       "      <td>NaN</td>\n",
       "      <td>N</td>\n",
       "    </tr>\n",
       "    <tr>\n",
       "      <th>3</th>\n",
       "      <td>C123</td>\n",
       "      <td>C</td>\n",
       "    </tr>\n",
       "    <tr>\n",
       "      <th>4</th>\n",
       "      <td>NaN</td>\n",
       "      <td>N</td>\n",
       "    </tr>\n",
       "  </tbody>\n",
       "</table>\n",
       "</div>"
      ],
      "text/plain": [
       "  cabin cabin_letter\n",
       "0   NaN            N\n",
       "1   C85            C\n",
       "2   NaN            N\n",
       "3  C123            C\n",
       "4   NaN            N"
      ]
     },
     "execution_count": 59,
     "metadata": {},
     "output_type": "execute_result"
    }
   ],
   "source": [
    "for df in [df_train, df_test]:\n",
    "    df[\"cabin_letter\"] = [\"N\" if pd.isna(x) else x[0] for x in df[\"cabin\"]]\n",
    "df_train[[\"cabin\", \"cabin_letter\"]].head()"
   ]
  },
  {
   "cell_type": "code",
   "execution_count": 60,
   "id": "f69025bd",
   "metadata": {
    "execution": {
     "iopub.execute_input": "2021-12-20T18:46:38.998529Z",
     "iopub.status.busy": "2021-12-20T18:46:38.997765Z",
     "iopub.status.idle": "2021-12-20T18:46:39.237992Z",
     "shell.execute_reply": "2021-12-20T18:46:39.237300Z",
     "shell.execute_reply.started": "2021-12-20T18:14:45.628155Z"
    },
    "id": "KAhLPk3j0pQW",
    "outputId": "88432126-7762-4cfb-9abe-f2ca9e9565bd",
    "papermill": {
     "duration": 0.348791,
     "end_time": "2021-12-20T18:46:39.238148",
     "exception": false,
     "start_time": "2021-12-20T18:46:38.889357",
     "status": "completed"
    },
    "tags": []
   },
   "outputs": [
    {
     "data": {
      "image/png": "[encoded data removed]",
      "text/plain": [
       "<Figure size 576x360 with 1 Axes>"
      ]
     },
     "metadata": {
      "needs_background": "light"
     },
     "output_type": "display_data"
    }
   ],
   "source": [
    "sns.barplot(x=\"cabin_letter\", y=\"survived\", data=df_train, ci=None);"
   ]
  },
  {
   "cell_type": "markdown",
   "id": "8631a22c",
   "metadata": {
    "id": "fI6vgF9R0u9P",
    "papermill": {
     "duration": 0.10593,
     "end_time": "2021-12-20T18:46:39.450201",
     "exception": false,
     "start_time": "2021-12-20T18:46:39.344271",
     "status": "completed"
    },
    "tags": []
   },
   "source": [
    "People with a cabin starting with A and G seem to have a smaller survival rate than the other people with a cabin. But nothing very significant in my opinion."
   ]
  },
  {
   "cell_type": "markdown",
   "id": "b9715d5a",
   "metadata": {
    "id": "8XM-TuvK1oZA",
    "papermill": {
     "duration": 0.105559,
     "end_time": "2021-12-20T18:46:39.665627",
     "exception": false,
     "start_time": "2021-12-20T18:46:39.560068",
     "status": "completed"
    },
    "tags": []
   },
   "source": [
    "### Conclusion of this part\n",
    "We created some new features that may/or may not increase the accuracy of our model. We'll test them!"
   ]
  },
  {
   "cell_type": "markdown",
   "id": "950ded23",
   "metadata": {
    "id": "sqKHkYPsshk_",
    "papermill": {
     "duration": 0.107289,
     "end_time": "2021-12-20T18:46:39.879537",
     "exception": false,
     "start_time": "2021-12-20T18:46:39.772248",
     "status": "completed"
    },
    "tags": []
   },
   "source": [
    "## Correlation matrix <a name=\"corr_matrix\"></a>\n",
    "\n",
    "Let's use a correlation matrix to have an idea of the relationship of each feature with the target variable (+ the relationship of each feature with each other)."
   ]
  },
  {
   "cell_type": "code",
   "execution_count": 61,
   "id": "26dd20e5",
   "metadata": {
    "execution": {
     "iopub.execute_input": "2021-12-20T18:46:40.101574Z",
     "iopub.status.busy": "2021-12-20T18:46:40.100870Z",
     "iopub.status.idle": "2021-12-20T18:46:40.120053Z",
     "shell.execute_reply": "2021-12-20T18:46:40.120603Z",
     "shell.execute_reply.started": "2021-12-20T18:14:48.089904Z"
    },
    "id": "sAMkDakJWZwv",
    "outputId": "e3ca9f70-5994-40d6-d5c0-985e0ee250e2",
    "papermill": {
     "duration": 0.134351,
     "end_time": "2021-12-20T18:46:40.120799",
     "exception": false,
     "start_time": "2021-12-20T18:46:39.986448",
     "status": "completed"
    },
    "tags": []
   },
   "outputs": [
    {
     "data": {
      "text/html": [
       "<div>\n",
       "<style scoped>\n",
       "    .dataframe tbody tr th:only-of-type {\n",
       "        vertical-align: middle;\n",
       "    }\n",
       "\n",
       "    .dataframe tbody tr th {\n",
       "        vertical-align: top;\n",
       "    }\n",
       "\n",
       "    .dataframe thead th {\n",
       "        text-align: right;\n",
       "    }\n",
       "</style>\n",
       "<table border=\"1\" class=\"dataframe\">\n",
       "  <thead>\n",
       "    <tr style=\"text-align: right;\">\n",
       "      <th></th>\n",
       "      <th>passengerid</th>\n",
       "      <th>survived</th>\n",
       "      <th>pclass</th>\n",
       "      <th>name</th>\n",
       "      <th>sex</th>\n",
       "      <th>age</th>\n",
       "      <th>sibsp</th>\n",
       "      <th>parch</th>\n",
       "      <th>ticket</th>\n",
       "      <th>fare</th>\n",
       "      <th>cabin</th>\n",
       "      <th>embarked</th>\n",
       "      <th>title</th>\n",
       "      <th>age_chunk</th>\n",
       "      <th>fare_chunk</th>\n",
       "      <th>n_relatives</th>\n",
       "      <th>has_relatives</th>\n",
       "      <th>n_cabins</th>\n",
       "      <th>has_cabin</th>\n",
       "      <th>cabin_letter</th>\n",
       "    </tr>\n",
       "  </thead>\n",
       "  <tbody>\n",
       "    <tr>\n",
       "      <th>0</th>\n",
       "      <td>1</td>\n",
       "      <td>0</td>\n",
       "      <td>3</td>\n",
       "      <td>Braund, Mr. Owen Harris</td>\n",
       "      <td>male</td>\n",
       "      <td>22.0</td>\n",
       "      <td>1</td>\n",
       "      <td>0</td>\n",
       "      <td>A/5 21171</td>\n",
       "      <td>7.2500</td>\n",
       "      <td>NaN</td>\n",
       "      <td>S</td>\n",
       "      <td>Mr.</td>\n",
       "      <td>(20, 30]</td>\n",
       "      <td>[0, 15)</td>\n",
       "      <td>1</td>\n",
       "      <td>1</td>\n",
       "      <td>0</td>\n",
       "      <td>0</td>\n",
       "      <td>N</td>\n",
       "    </tr>\n",
       "    <tr>\n",
       "      <th>1</th>\n",
       "      <td>2</td>\n",
       "      <td>1</td>\n",
       "      <td>1</td>\n",
       "      <td>Cumings, Mrs. John Bradley (Florence Briggs Th...</td>\n",
       "      <td>female</td>\n",
       "      <td>38.0</td>\n",
       "      <td>1</td>\n",
       "      <td>0</td>\n",
       "      <td>PC 17599</td>\n",
       "      <td>71.2833</td>\n",
       "      <td>C85</td>\n",
       "      <td>C</td>\n",
       "      <td>Mrs.</td>\n",
       "      <td>(30, 40]</td>\n",
       "      <td>[60, 75)</td>\n",
       "      <td>1</td>\n",
       "      <td>1</td>\n",
       "      <td>1</td>\n",
       "      <td>1</td>\n",
       "      <td>C</td>\n",
       "    </tr>\n",
       "    <tr>\n",
       "      <th>2</th>\n",
       "      <td>3</td>\n",
       "      <td>1</td>\n",
       "      <td>3</td>\n",
       "      <td>Heikkinen, Miss. Laina</td>\n",
       "      <td>female</td>\n",
       "      <td>26.0</td>\n",
       "      <td>0</td>\n",
       "      <td>0</td>\n",
       "      <td>STON/O2. 3101282</td>\n",
       "      <td>7.9250</td>\n",
       "      <td>NaN</td>\n",
       "      <td>S</td>\n",
       "      <td>Miss.</td>\n",
       "      <td>(20, 30]</td>\n",
       "      <td>[0, 15)</td>\n",
       "      <td>0</td>\n",
       "      <td>0</td>\n",
       "      <td>0</td>\n",
       "      <td>0</td>\n",
       "      <td>N</td>\n",
       "    </tr>\n",
       "    <tr>\n",
       "      <th>3</th>\n",
       "      <td>4</td>\n",
       "      <td>1</td>\n",
       "      <td>1</td>\n",
       "      <td>Futrelle, Mrs. Jacques Heath (Lily May Peel)</td>\n",
       "      <td>female</td>\n",
       "      <td>35.0</td>\n",
       "      <td>1</td>\n",
       "      <td>0</td>\n",
       "      <td>113803</td>\n",
       "      <td>53.1000</td>\n",
       "      <td>C123</td>\n",
       "      <td>S</td>\n",
       "      <td>Mrs.</td>\n",
       "      <td>(30, 40]</td>\n",
       "      <td>[45, 60)</td>\n",
       "      <td>1</td>\n",
       "      <td>1</td>\n",
       "      <td>1</td>\n",
       "      <td>1</td>\n",
       "      <td>C</td>\n",
       "    </tr>\n",
       "    <tr>\n",
       "      <th>4</th>\n",
       "      <td>5</td>\n",
       "      <td>0</td>\n",
       "      <td>3</td>\n",
       "      <td>Allen, Mr. William Henry</td>\n",
       "      <td>male</td>\n",
       "      <td>35.0</td>\n",
       "      <td>0</td>\n",
       "      <td>0</td>\n",
       "      <td>373450</td>\n",
       "      <td>8.0500</td>\n",
       "      <td>NaN</td>\n",
       "      <td>S</td>\n",
       "      <td>Mr.</td>\n",
       "      <td>(30, 40]</td>\n",
       "      <td>[0, 15)</td>\n",
       "      <td>0</td>\n",
       "      <td>0</td>\n",
       "      <td>0</td>\n",
       "      <td>0</td>\n",
       "      <td>N</td>\n",
       "    </tr>\n",
       "  </tbody>\n",
       "</table>\n",
       "</div>"
      ],
      "text/plain": [
       "   passengerid  survived  pclass  \\\n",
       "0            1         0       3   \n",
       "1            2         1       1   \n",
       "2            3         1       3   \n",
       "3            4         1       1   \n",
       "4            5         0       3   \n",
       "\n",
       "                                                name     sex   age  sibsp  \\\n",
       "0                            Braund, Mr. Owen Harris    male  22.0      1   \n",
       "1  Cumings, Mrs. John Bradley (Florence Briggs Th...  female  38.0      1   \n",
       "2                             Heikkinen, Miss. Laina  female  26.0      0   \n",
       "3       Futrelle, Mrs. Jacques Heath (Lily May Peel)  female  35.0      1   \n",
       "4                           Allen, Mr. William Henry    male  35.0      0   \n",
       "\n",
       "   parch            ticket     fare cabin embarked  title age_chunk  \\\n",
       "0      0         A/5 21171   7.2500   NaN        S    Mr.  (20, 30]   \n",
       "1      0          PC 17599  71.2833   C85        C   Mrs.  (30, 40]   \n",
       "2      0  STON/O2. 3101282   7.9250   NaN        S  Miss.  (20, 30]   \n",
       "3      0            113803  53.1000  C123        S   Mrs.  (30, 40]   \n",
       "4      0            373450   8.0500   NaN        S    Mr.  (30, 40]   \n",
       "\n",
       "  fare_chunk  n_relatives  has_relatives  n_cabins  has_cabin cabin_letter  \n",
       "0    [0, 15)            1              1         0          0            N  \n",
       "1   [60, 75)            1              1         1          1            C  \n",
       "2    [0, 15)            0              0         0          0            N  \n",
       "3   [45, 60)            1              1         1          1            C  \n",
       "4    [0, 15)            0              0         0          0            N  "
      ]
     },
     "execution_count": 61,
     "metadata": {},
     "output_type": "execute_result"
    }
   ],
   "source": [
    "df_train.head()"
   ]
  },
  {
   "cell_type": "markdown",
   "id": "ce9ebce0",
   "metadata": {
    "id": "ev7pBGZFq5SI",
    "papermill": {
     "duration": 0.106588,
     "end_time": "2021-12-20T18:46:40.335225",
     "exception": false,
     "start_time": "2021-12-20T18:46:40.228637",
     "status": "completed"
    },
    "tags": []
   },
   "source": [
    "Let's transform the categorical data to numerical data for plotting purposes"
   ]
  },
  {
   "cell_type": "code",
   "execution_count": 62,
   "id": "1af183c3",
   "metadata": {
    "execution": {
     "iopub.execute_input": "2021-12-20T18:46:40.557133Z",
     "iopub.status.busy": "2021-12-20T18:46:40.556417Z",
     "iopub.status.idle": "2021-12-20T18:46:40.691679Z",
     "shell.execute_reply": "2021-12-20T18:46:40.691065Z",
     "shell.execute_reply.started": "2021-12-20T18:14:51.186715Z"
    },
    "id": "5SBUpZ2rq44R",
    "papermill": {
     "duration": 0.249793,
     "end_time": "2021-12-20T18:46:40.691851",
     "exception": false,
     "start_time": "2021-12-20T18:46:40.442058",
     "status": "completed"
    },
    "tags": []
   },
   "outputs": [],
   "source": [
    "from sklearn.preprocessing import LabelEncoder\n",
    "\n",
    "cols_to_encode = [\"sex\", \"embarked\", \"title\", \"age_chunk\", \"fare_chunk\", \"cabin_letter\"]\n",
    "\n",
    "for col in cols_to_encode:\n",
    "  le = LabelEncoder()\n",
    "  df_train[col + \"_enc\"] = le.fit_transform(df_train[col])"
   ]
  },
  {
   "cell_type": "code",
   "execution_count": 63,
   "id": "93639fd0",
   "metadata": {
    "execution": {
     "iopub.execute_input": "2021-12-20T18:46:40.909461Z",
     "iopub.status.busy": "2021-12-20T18:46:40.908780Z",
     "iopub.status.idle": "2021-12-20T18:46:40.915620Z",
     "shell.execute_reply": "2021-12-20T18:46:40.915114Z",
     "shell.execute_reply.started": "2021-12-20T18:15:00.591127Z"
    },
    "id": "vU0AEeq6W8Lo",
    "outputId": "01773a4a-8cfb-4ffa-9407-66bbe7889deb",
    "papermill": {
     "duration": 0.116527,
     "end_time": "2021-12-20T18:46:40.915769",
     "exception": false,
     "start_time": "2021-12-20T18:46:40.799242",
     "status": "completed"
    },
    "tags": []
   },
   "outputs": [
    {
     "data": {
      "text/plain": [
       "Index(['passengerid', 'survived', 'pclass', 'name', 'sex', 'age', 'sibsp',\n",
       "       'parch', 'ticket', 'fare', 'cabin', 'embarked', 'title', 'age_chunk',\n",
       "       'fare_chunk', 'n_relatives', 'has_relatives', 'n_cabins', 'has_cabin',\n",
       "       'cabin_letter', 'sex_enc', 'embarked_enc', 'title_enc', 'age_chunk_enc',\n",
       "       'fare_chunk_enc', 'cabin_letter_enc'],\n",
       "      dtype='object')"
      ]
     },
     "execution_count": 63,
     "metadata": {},
     "output_type": "execute_result"
    }
   ],
   "source": [
    "df_train.columns"
   ]
  },
  {
   "cell_type": "markdown",
   "id": "e62c10ca",
   "metadata": {
    "id": "VUiX7my6XaDm",
    "papermill": {
     "duration": 0.109721,
     "end_time": "2021-12-20T18:46:41.132767",
     "exception": false,
     "start_time": "2021-12-20T18:46:41.023046",
     "status": "completed"
    },
    "tags": []
   },
   "source": [
    "Correlation matrix (big one) with all features possible to see which one is useless/redundant from the ones we created (ex. *age* vs *age_chunk* or *n_cabins* vs *has_cabins*)"
   ]
  },
  {
   "cell_type": "code",
   "execution_count": 65,
   "id": "c80361d0",
   "metadata": {
    "execution": {
     "iopub.execute_input": "2021-12-20T18:46:41.358459Z",
     "iopub.status.busy": "2021-12-20T18:46:41.357615Z",
     "iopub.status.idle": "2021-12-20T18:46:42.510080Z",
     "shell.execute_reply": "2021-12-20T18:46:42.510582Z",
     "shell.execute_reply.started": "2021-12-20T18:15:02.678925Z"
    },
    "id": "5RpIznt1XcNY",
    "outputId": "68ac80d1-5c87-4c05-9475-72c5e5e6a541",
    "papermill": {
     "duration": 1.26809,
     "end_time": "2021-12-20T18:46:42.510779",
     "exception": false,
     "start_time": "2021-12-20T18:46:41.242689",
     "status": "completed"
    },
    "tags": []
   },
   "outputs": [
    {
     "data": {
      "image/png": "[encoded data removed]",
      "text/plain": [
       "<Figure size 864x576 with 2 Axes>"
      ]
     },
     "metadata": {
      "needs_background": "light"
     },
     "output_type": "display_data"
    }
   ],
   "source": [
    "corr = df_train.corr()\n",
    "triu = np.triu(corr)\n",
    "plt.figure(figsize=(12, 8))\n",
    "sns.heatmap(corr, annot=True, mask=triu);"
   ]
  },
  {
   "cell_type": "code",
   "execution_count": 66,
   "id": "6c29330d",
   "metadata": {
    "execution": {
     "iopub.execute_input": "2021-12-20T18:46:42.736101Z",
     "iopub.status.busy": "2021-12-20T18:46:42.735096Z",
     "iopub.status.idle": "2021-12-20T18:46:42.743880Z",
     "shell.execute_reply": "2021-12-20T18:46:42.744466Z",
     "shell.execute_reply.started": "2021-12-20T18:15:05.964825Z"
    },
    "id": "3ibDIMIRuXEH",
    "outputId": "bf4818c6-8c4e-44f1-aef5-ed08264c8852",
    "papermill": {
     "duration": 0.123157,
     "end_time": "2021-12-20T18:46:42.744650",
     "exception": false,
     "start_time": "2021-12-20T18:46:42.621493",
     "status": "completed"
    },
    "tags": []
   },
   "outputs": [
    {
     "data": {
      "text/plain": [
       "survived            1.000000\n",
       "sex_enc             0.541585\n",
       "pclass              0.335549\n",
       "has_cabin           0.313435\n",
       "cabin_letter_enc    0.290684\n",
       "fare_chunk_enc      0.289328\n",
       "n_cabins            0.274282\n",
       "fare                0.255290\n",
       "has_relatives       0.206207\n",
       "title_enc           0.193873\n",
       "embarked_enc        0.169718\n",
       "age                 0.083703\n",
       "parch               0.083151\n",
       "age_chunk_enc       0.045775\n",
       "sibsp               0.034040\n",
       "n_relatives         0.018277\n",
       "passengerid         0.005028\n",
       "Name: survived, dtype: float64"
      ]
     },
     "execution_count": 66,
     "metadata": {},
     "output_type": "execute_result"
    }
   ],
   "source": [
    "corr.loc[\"survived\", :].abs().sort_values(ascending=False)"
   ]
  },
  {
   "cell_type": "markdown",
   "id": "21069596",
   "metadata": {
    "id": "KdevcYX244yj",
    "papermill": {
     "duration": 0.109376,
     "end_time": "2021-12-20T18:46:42.964425",
     "exception": false,
     "start_time": "2021-12-20T18:46:42.855049",
     "status": "completed"
    },
    "tags": []
   },
   "source": [
    "*sex*, *pclass*, *has_cabin* & *fare_chunk* looks promising"
   ]
  },
  {
   "cell_type": "markdown",
   "id": "ff5d8d0c",
   "metadata": {
    "id": "Hh6LgS3NruZg",
    "papermill": {
     "duration": 0.110631,
     "end_time": "2021-12-20T18:46:43.185605",
     "exception": false,
     "start_time": "2021-12-20T18:46:43.074974",
     "status": "completed"
    },
    "tags": []
   },
   "source": [
    "## Modeling <a name=\"modeling\"></a>"
   ]
  },
  {
   "cell_type": "code",
   "execution_count": 84,
   "id": "a9f6d436",
   "metadata": {
    "execution": {
     "iopub.execute_input": "2021-12-20T18:46:43.411355Z",
     "iopub.status.busy": "2021-12-20T18:46:43.410657Z",
     "iopub.status.idle": "2021-12-20T18:46:43.457657Z",
     "shell.execute_reply": "2021-12-20T18:46:43.458213Z",
     "shell.execute_reply.started": "2021-12-20T18:29:45.186040Z"
    },
    "id": "MVr14E0S6sR0",
    "papermill": {
     "duration": 0.162256,
     "end_time": "2021-12-20T18:46:43.458422",
     "exception": false,
     "start_time": "2021-12-20T18:46:43.296166",
     "status": "completed"
    },
    "tags": []
   },
   "outputs": [],
   "source": [
    "from sklearn.preprocessing import StandardScaler, OneHotEncoder\n",
    "from sklearn.model_selection import cross_val_score"
   ]
  },
  {
   "cell_type": "code",
   "execution_count": 85,
   "id": "5c6934fa",
   "metadata": {
    "execution": {
     "iopub.execute_input": "2021-12-20T18:46:43.684346Z",
     "iopub.status.busy": "2021-12-20T18:46:43.683687Z",
     "iopub.status.idle": "2021-12-20T18:46:43.687250Z",
     "shell.execute_reply": "2021-12-20T18:46:43.687723Z",
     "shell.execute_reply.started": "2021-12-20T18:19:07.304701Z"
    },
    "id": "gvbDDNNcr_uQ",
    "papermill": {
     "duration": 0.118028,
     "end_time": "2021-12-20T18:46:43.687914",
     "exception": false,
     "start_time": "2021-12-20T18:46:43.569886",
     "status": "completed"
    },
    "tags": []
   },
   "outputs": [],
   "source": [
    "# after trying out several combinations of features, I ended up with these features (they gave the best results)\n",
    "features = ['pclass', 'sex', 'age', 'sibsp', 'parch', 'fare', 'embarked', 'has_cabin', 'title']"
   ]
  },
  {
   "cell_type": "markdown",
   "id": "8e7b9b0a",
   "metadata": {
    "id": "O00wLezyxHJq",
    "papermill": {
     "duration": 0.109638,
     "end_time": "2021-12-20T18:46:43.907769",
     "exception": false,
     "start_time": "2021-12-20T18:46:43.798131",
     "status": "completed"
    },
    "tags": []
   },
   "source": [
    "OneHotEncode categorical variables (we need to concat the two dataframes and OneHotEncode the concat dataframe because the train & test dataframe do not contains the same titles)"
   ]
  },
  {
   "cell_type": "code",
   "execution_count": 86,
   "id": "6dd350d3",
   "metadata": {
    "execution": {
     "iopub.execute_input": "2021-12-20T18:46:44.141059Z",
     "iopub.status.busy": "2021-12-20T18:46:44.133736Z",
     "iopub.status.idle": "2021-12-20T18:46:44.158264Z",
     "shell.execute_reply": "2021-12-20T18:46:44.157544Z",
     "shell.execute_reply.started": "2021-12-20T18:25:56.433605Z"
    },
    "id": "4DgaZzC2lQEv",
    "papermill": {
     "duration": 0.139989,
     "end_time": "2021-12-20T18:46:44.158417",
     "exception": false,
     "start_time": "2021-12-20T18:46:44.018428",
     "status": "completed"
    },
    "tags": []
   },
   "outputs": [],
   "source": [
    "# concat the two df\n",
    "df_train[\"train\"] = 1\n",
    "df_test[\"train\"] = 0\n",
    "df_test[\"survived\"] = np.nan\n",
    "df_all = pd.concat([df_train[features + [\"train\"]], df_test[features + [\"train\"]]])\n",
    "\n",
    "# created dummy variables from categories (use pd.get_dummies and not OneHotEncoder to keep track of the \"test\" column)\n",
    "df_all_dummies = pd.get_dummies(df_all)\n",
    "\n",
    "# lets get back our train & test dataframes\n",
    "df_train_dummies = df_all_dummies.loc[df_all_dummies[\"train\"] == 1, :]\n",
    "df_test_dummies = df_all_dummies.loc[df_all_dummies[\"train\"] == 0, :]"
   ]
  },
  {
   "cell_type": "code",
   "execution_count": 87,
   "id": "e32f9cd4",
   "metadata": {
    "execution": {
     "iopub.execute_input": "2021-12-20T18:46:44.386543Z",
     "iopub.status.busy": "2021-12-20T18:46:44.385924Z",
     "iopub.status.idle": "2021-12-20T18:46:44.407282Z",
     "shell.execute_reply": "2021-12-20T18:46:44.406672Z",
     "shell.execute_reply.started": "2021-12-20T18:26:04.802110Z"
    },
    "papermill": {
     "duration": 0.136231,
     "end_time": "2021-12-20T18:46:44.407432",
     "exception": false,
     "start_time": "2021-12-20T18:46:44.271201",
     "status": "completed"
    },
    "tags": []
   },
   "outputs": [
    {
     "data": {
      "text/html": [
       "<div>\n",
       "<style scoped>\n",
       "    .dataframe tbody tr th:only-of-type {\n",
       "        vertical-align: middle;\n",
       "    }\n",
       "\n",
       "    .dataframe tbody tr th {\n",
       "        vertical-align: top;\n",
       "    }\n",
       "\n",
       "    .dataframe thead th {\n",
       "        text-align: right;\n",
       "    }\n",
       "</style>\n",
       "<table border=\"1\" class=\"dataframe\">\n",
       "  <thead>\n",
       "    <tr style=\"text-align: right;\">\n",
       "      <th></th>\n",
       "      <th>pclass</th>\n",
       "      <th>age</th>\n",
       "      <th>sibsp</th>\n",
       "      <th>parch</th>\n",
       "      <th>fare</th>\n",
       "      <th>has_cabin</th>\n",
       "      <th>train</th>\n",
       "      <th>sex_female</th>\n",
       "      <th>sex_male</th>\n",
       "      <th>embarked_C</th>\n",
       "      <th>...</th>\n",
       "      <th>title_Master.</th>\n",
       "      <th>title_Miss.</th>\n",
       "      <th>title_Mlle.</th>\n",
       "      <th>title_Mme.</th>\n",
       "      <th>title_Mr.</th>\n",
       "      <th>title_Mrs.</th>\n",
       "      <th>title_Ms.</th>\n",
       "      <th>title_Rev.</th>\n",
       "      <th>title_Sir.</th>\n",
       "      <th>title_the</th>\n",
       "    </tr>\n",
       "  </thead>\n",
       "  <tbody>\n",
       "    <tr>\n",
       "      <th>0</th>\n",
       "      <td>3</td>\n",
       "      <td>22.0</td>\n",
       "      <td>1</td>\n",
       "      <td>0</td>\n",
       "      <td>7.2500</td>\n",
       "      <td>0</td>\n",
       "      <td>1</td>\n",
       "      <td>0</td>\n",
       "      <td>1</td>\n",
       "      <td>0</td>\n",
       "      <td>...</td>\n",
       "      <td>0</td>\n",
       "      <td>0</td>\n",
       "      <td>0</td>\n",
       "      <td>0</td>\n",
       "      <td>1</td>\n",
       "      <td>0</td>\n",
       "      <td>0</td>\n",
       "      <td>0</td>\n",
       "      <td>0</td>\n",
       "      <td>0</td>\n",
       "    </tr>\n",
       "    <tr>\n",
       "      <th>1</th>\n",
       "      <td>1</td>\n",
       "      <td>38.0</td>\n",
       "      <td>1</td>\n",
       "      <td>0</td>\n",
       "      <td>71.2833</td>\n",
       "      <td>1</td>\n",
       "      <td>1</td>\n",
       "      <td>1</td>\n",
       "      <td>0</td>\n",
       "      <td>1</td>\n",
       "      <td>...</td>\n",
       "      <td>0</td>\n",
       "      <td>0</td>\n",
       "      <td>0</td>\n",
       "      <td>0</td>\n",
       "      <td>0</td>\n",
       "      <td>1</td>\n",
       "      <td>0</td>\n",
       "      <td>0</td>\n",
       "      <td>0</td>\n",
       "      <td>0</td>\n",
       "    </tr>\n",
       "    <tr>\n",
       "      <th>2</th>\n",
       "      <td>3</td>\n",
       "      <td>26.0</td>\n",
       "      <td>0</td>\n",
       "      <td>0</td>\n",
       "      <td>7.9250</td>\n",
       "      <td>0</td>\n",
       "      <td>1</td>\n",
       "      <td>1</td>\n",
       "      <td>0</td>\n",
       "      <td>0</td>\n",
       "      <td>...</td>\n",
       "      <td>0</td>\n",
       "      <td>1</td>\n",
       "      <td>0</td>\n",
       "      <td>0</td>\n",
       "      <td>0</td>\n",
       "      <td>0</td>\n",
       "      <td>0</td>\n",
       "      <td>0</td>\n",
       "      <td>0</td>\n",
       "      <td>0</td>\n",
       "    </tr>\n",
       "    <tr>\n",
       "      <th>3</th>\n",
       "      <td>1</td>\n",
       "      <td>35.0</td>\n",
       "      <td>1</td>\n",
       "      <td>0</td>\n",
       "      <td>53.1000</td>\n",
       "      <td>1</td>\n",
       "      <td>1</td>\n",
       "      <td>1</td>\n",
       "      <td>0</td>\n",
       "      <td>0</td>\n",
       "      <td>...</td>\n",
       "      <td>0</td>\n",
       "      <td>0</td>\n",
       "      <td>0</td>\n",
       "      <td>0</td>\n",
       "      <td>0</td>\n",
       "      <td>1</td>\n",
       "      <td>0</td>\n",
       "      <td>0</td>\n",
       "      <td>0</td>\n",
       "      <td>0</td>\n",
       "    </tr>\n",
       "    <tr>\n",
       "      <th>4</th>\n",
       "      <td>3</td>\n",
       "      <td>35.0</td>\n",
       "      <td>0</td>\n",
       "      <td>0</td>\n",
       "      <td>8.0500</td>\n",
       "      <td>0</td>\n",
       "      <td>1</td>\n",
       "      <td>0</td>\n",
       "      <td>1</td>\n",
       "      <td>0</td>\n",
       "      <td>...</td>\n",
       "      <td>0</td>\n",
       "      <td>0</td>\n",
       "      <td>0</td>\n",
       "      <td>0</td>\n",
       "      <td>1</td>\n",
       "      <td>0</td>\n",
       "      <td>0</td>\n",
       "      <td>0</td>\n",
       "      <td>0</td>\n",
       "      <td>0</td>\n",
       "    </tr>\n",
       "  </tbody>\n",
       "</table>\n",
       "<p>5 rows × 30 columns</p>\n",
       "</div>"
      ],
      "text/plain": [
       "   pclass   age  sibsp  parch     fare  has_cabin  train  sex_female  \\\n",
       "0       3  22.0      1      0   7.2500          0      1           0   \n",
       "1       1  38.0      1      0  71.2833          1      1           1   \n",
       "2       3  26.0      0      0   7.9250          0      1           1   \n",
       "3       1  35.0      1      0  53.1000          1      1           1   \n",
       "4       3  35.0      0      0   8.0500          0      1           0   \n",
       "\n",
       "   sex_male  embarked_C  ...  title_Master.  title_Miss.  title_Mlle.  \\\n",
       "0         1           0  ...              0            0            0   \n",
       "1         0           1  ...              0            0            0   \n",
       "2         0           0  ...              0            1            0   \n",
       "3         0           0  ...              0            0            0   \n",
       "4         1           0  ...              0            0            0   \n",
       "\n",
       "   title_Mme.  title_Mr.  title_Mrs.  title_Ms.  title_Rev.  title_Sir.  \\\n",
       "0           0          1           0          0           0           0   \n",
       "1           0          0           1          0           0           0   \n",
       "2           0          0           0          0           0           0   \n",
       "3           0          0           1          0           0           0   \n",
       "4           0          1           0          0           0           0   \n",
       "\n",
       "   title_the  \n",
       "0          0  \n",
       "1          0  \n",
       "2          0  \n",
       "3          0  \n",
       "4          0  \n",
       "\n",
       "[5 rows x 30 columns]"
      ]
     },
     "execution_count": 87,
     "metadata": {},
     "output_type": "execute_result"
    }
   ],
   "source": [
    "df_train_dummies.head()"
   ]
  },
  {
   "cell_type": "markdown",
   "id": "7ba2838a",
   "metadata": {
    "papermill": {
     "duration": 0.112493,
     "end_time": "2021-12-20T18:46:44.634118",
     "exception": false,
     "start_time": "2021-12-20T18:46:44.521625",
     "status": "completed"
    },
    "tags": []
   },
   "source": [
    "Scale numerical variables"
   ]
  },
  {
   "cell_type": "code",
   "execution_count": 88,
   "id": "ff3bc603",
   "metadata": {
    "execution": {
     "iopub.execute_input": "2021-12-20T18:46:44.870961Z",
     "iopub.status.busy": "2021-12-20T18:46:44.870222Z",
     "iopub.status.idle": "2021-12-20T18:46:44.883478Z",
     "shell.execute_reply": "2021-12-20T18:46:44.882908Z",
     "shell.execute_reply.started": "2021-12-20T18:29:50.993736Z"
    },
    "papermill": {
     "duration": 0.133386,
     "end_time": "2021-12-20T18:46:44.883642",
     "exception": false,
     "start_time": "2021-12-20T18:46:44.750256",
     "status": "completed"
    },
    "tags": []
   },
   "outputs": [],
   "source": [
    "# scale the variables 'pclass', 'age', 'sibsp', 'parch', 'fare'\n",
    "df_train_dummies_scaled = df_train_dummies.copy()\n",
    "df_test_dummies_scaled = df_test_dummies.copy()\n",
    "\n",
    "for df in [df_train_dummies_scaled, df_test_dummies_scaled]:\n",
    "    scaler = StandardScaler()\n",
    "    df[['pclass', 'age', 'sibsp', 'parch', 'fare']] = scaler.fit_transform(df[['pclass', 'age', 'sibsp', 'parch', 'fare']])"
   ]
  },
  {
   "cell_type": "code",
   "execution_count": 89,
   "id": "baec5bce",
   "metadata": {
    "execution": {
     "iopub.execute_input": "2021-12-20T18:46:45.117274Z",
     "iopub.status.busy": "2021-12-20T18:46:45.116550Z",
     "iopub.status.idle": "2021-12-20T18:46:45.137433Z",
     "shell.execute_reply": "2021-12-20T18:46:45.136884Z",
     "shell.execute_reply.started": "2021-12-20T18:30:11.937617Z"
    },
    "papermill": {
     "duration": 0.139728,
     "end_time": "2021-12-20T18:46:45.137585",
     "exception": false,
     "start_time": "2021-12-20T18:46:44.997857",
     "status": "completed"
    },
    "tags": []
   },
   "outputs": [
    {
     "data": {
      "text/html": [
       "<div>\n",
       "<style scoped>\n",
       "    .dataframe tbody tr th:only-of-type {\n",
       "        vertical-align: middle;\n",
       "    }\n",
       "\n",
       "    .dataframe tbody tr th {\n",
       "        vertical-align: top;\n",
       "    }\n",
       "\n",
       "    .dataframe thead th {\n",
       "        text-align: right;\n",
       "    }\n",
       "</style>\n",
       "<table border=\"1\" class=\"dataframe\">\n",
       "  <thead>\n",
       "    <tr style=\"text-align: right;\">\n",
       "      <th></th>\n",
       "      <th>pclass</th>\n",
       "      <th>age</th>\n",
       "      <th>sibsp</th>\n",
       "      <th>parch</th>\n",
       "      <th>fare</th>\n",
       "      <th>has_cabin</th>\n",
       "      <th>train</th>\n",
       "      <th>sex_female</th>\n",
       "      <th>sex_male</th>\n",
       "      <th>embarked_C</th>\n",
       "      <th>...</th>\n",
       "      <th>title_Master.</th>\n",
       "      <th>title_Miss.</th>\n",
       "      <th>title_Mlle.</th>\n",
       "      <th>title_Mme.</th>\n",
       "      <th>title_Mr.</th>\n",
       "      <th>title_Mrs.</th>\n",
       "      <th>title_Ms.</th>\n",
       "      <th>title_Rev.</th>\n",
       "      <th>title_Sir.</th>\n",
       "      <th>title_the</th>\n",
       "    </tr>\n",
       "  </thead>\n",
       "  <tbody>\n",
       "    <tr>\n",
       "      <th>0</th>\n",
       "      <td>0.825209</td>\n",
       "      <td>-0.555324</td>\n",
       "      <td>0.431350</td>\n",
       "      <td>-0.474326</td>\n",
       "      <td>-0.500240</td>\n",
       "      <td>0</td>\n",
       "      <td>1</td>\n",
       "      <td>0</td>\n",
       "      <td>1</td>\n",
       "      <td>0</td>\n",
       "      <td>...</td>\n",
       "      <td>0</td>\n",
       "      <td>0</td>\n",
       "      <td>0</td>\n",
       "      <td>0</td>\n",
       "      <td>1</td>\n",
       "      <td>0</td>\n",
       "      <td>0</td>\n",
       "      <td>0</td>\n",
       "      <td>0</td>\n",
       "      <td>0</td>\n",
       "    </tr>\n",
       "    <tr>\n",
       "      <th>1</th>\n",
       "      <td>-1.572211</td>\n",
       "      <td>0.654560</td>\n",
       "      <td>0.431350</td>\n",
       "      <td>-0.474326</td>\n",
       "      <td>0.788947</td>\n",
       "      <td>1</td>\n",
       "      <td>1</td>\n",
       "      <td>1</td>\n",
       "      <td>0</td>\n",
       "      <td>1</td>\n",
       "      <td>...</td>\n",
       "      <td>0</td>\n",
       "      <td>0</td>\n",
       "      <td>0</td>\n",
       "      <td>0</td>\n",
       "      <td>0</td>\n",
       "      <td>1</td>\n",
       "      <td>0</td>\n",
       "      <td>0</td>\n",
       "      <td>0</td>\n",
       "      <td>0</td>\n",
       "    </tr>\n",
       "    <tr>\n",
       "      <th>2</th>\n",
       "      <td>0.825209</td>\n",
       "      <td>-0.252853</td>\n",
       "      <td>-0.475199</td>\n",
       "      <td>-0.474326</td>\n",
       "      <td>-0.486650</td>\n",
       "      <td>0</td>\n",
       "      <td>1</td>\n",
       "      <td>1</td>\n",
       "      <td>0</td>\n",
       "      <td>0</td>\n",
       "      <td>...</td>\n",
       "      <td>0</td>\n",
       "      <td>1</td>\n",
       "      <td>0</td>\n",
       "      <td>0</td>\n",
       "      <td>0</td>\n",
       "      <td>0</td>\n",
       "      <td>0</td>\n",
       "      <td>0</td>\n",
       "      <td>0</td>\n",
       "      <td>0</td>\n",
       "    </tr>\n",
       "    <tr>\n",
       "      <th>3</th>\n",
       "      <td>-1.572211</td>\n",
       "      <td>0.427706</td>\n",
       "      <td>0.431350</td>\n",
       "      <td>-0.474326</td>\n",
       "      <td>0.422861</td>\n",
       "      <td>1</td>\n",
       "      <td>1</td>\n",
       "      <td>1</td>\n",
       "      <td>0</td>\n",
       "      <td>0</td>\n",
       "      <td>...</td>\n",
       "      <td>0</td>\n",
       "      <td>0</td>\n",
       "      <td>0</td>\n",
       "      <td>0</td>\n",
       "      <td>0</td>\n",
       "      <td>1</td>\n",
       "      <td>0</td>\n",
       "      <td>0</td>\n",
       "      <td>0</td>\n",
       "      <td>0</td>\n",
       "    </tr>\n",
       "    <tr>\n",
       "      <th>4</th>\n",
       "      <td>0.825209</td>\n",
       "      <td>0.427706</td>\n",
       "      <td>-0.475199</td>\n",
       "      <td>-0.474326</td>\n",
       "      <td>-0.484133</td>\n",
       "      <td>0</td>\n",
       "      <td>1</td>\n",
       "      <td>0</td>\n",
       "      <td>1</td>\n",
       "      <td>0</td>\n",
       "      <td>...</td>\n",
       "      <td>0</td>\n",
       "      <td>0</td>\n",
       "      <td>0</td>\n",
       "      <td>0</td>\n",
       "      <td>1</td>\n",
       "      <td>0</td>\n",
       "      <td>0</td>\n",
       "      <td>0</td>\n",
       "      <td>0</td>\n",
       "      <td>0</td>\n",
       "    </tr>\n",
       "  </tbody>\n",
       "</table>\n",
       "<p>5 rows × 30 columns</p>\n",
       "</div>"
      ],
      "text/plain": [
       "     pclass       age     sibsp     parch      fare  has_cabin  train  \\\n",
       "0  0.825209 -0.555324  0.431350 -0.474326 -0.500240          0      1   \n",
       "1 -1.572211  0.654560  0.431350 -0.474326  0.788947          1      1   \n",
       "2  0.825209 -0.252853 -0.475199 -0.474326 -0.486650          0      1   \n",
       "3 -1.572211  0.427706  0.431350 -0.474326  0.422861          1      1   \n",
       "4  0.825209  0.427706 -0.475199 -0.474326 -0.484133          0      1   \n",
       "\n",
       "   sex_female  sex_male  embarked_C  ...  title_Master.  title_Miss.  \\\n",
       "0           0         1           0  ...              0            0   \n",
       "1           1         0           1  ...              0            0   \n",
       "2           1         0           0  ...              0            1   \n",
       "3           1         0           0  ...              0            0   \n",
       "4           0         1           0  ...              0            0   \n",
       "\n",
       "   title_Mlle.  title_Mme.  title_Mr.  title_Mrs.  title_Ms.  title_Rev.  \\\n",
       "0            0           0          1           0          0           0   \n",
       "1            0           0          0           1          0           0   \n",
       "2            0           0          0           0          0           0   \n",
       "3            0           0          0           1          0           0   \n",
       "4            0           0          1           0          0           0   \n",
       "\n",
       "   title_Sir.  title_the  \n",
       "0           0          0  \n",
       "1           0          0  \n",
       "2           0          0  \n",
       "3           0          0  \n",
       "4           0          0  \n",
       "\n",
       "[5 rows x 30 columns]"
      ]
     },
     "execution_count": 89,
     "metadata": {},
     "output_type": "execute_result"
    }
   ],
   "source": [
    "df_train_dummies_scaled.head()"
   ]
  },
  {
   "cell_type": "markdown",
   "id": "59fd556c",
   "metadata": {
    "papermill": {
     "duration": 0.111621,
     "end_time": "2021-12-20T18:46:45.363314",
     "exception": false,
     "start_time": "2021-12-20T18:46:45.251693",
     "status": "completed"
    },
    "tags": []
   },
   "source": [
    "Make our X_train & X_test & y_train dataframes"
   ]
  },
  {
   "cell_type": "code",
   "execution_count": 90,
   "id": "f81738c0",
   "metadata": {
    "execution": {
     "iopub.execute_input": "2021-12-20T18:46:45.593758Z",
     "iopub.status.busy": "2021-12-20T18:46:45.593128Z",
     "iopub.status.idle": "2021-12-20T18:46:45.601711Z",
     "shell.execute_reply": "2021-12-20T18:46:45.602266Z",
     "shell.execute_reply.started": "2021-12-20T18:34:04.606440Z"
    },
    "papermill": {
     "duration": 0.1265,
     "end_time": "2021-12-20T18:46:45.602460",
     "exception": false,
     "start_time": "2021-12-20T18:46:45.475960",
     "status": "completed"
    },
    "tags": []
   },
   "outputs": [],
   "source": [
    "X_train = df_train_dummies_scaled.loc[ df_train_dummies_scaled[\"train\"] == 1, : ].drop(columns=\"train\")\n",
    "X_test = df_test_dummies_scaled.loc[ df_test_dummies_scaled[\"train\"] == 0, : ].drop(columns=\"train\")\n",
    "\n",
    "y_train = df_train[\"survived\"]"
   ]
  },
  {
   "cell_type": "markdown",
   "id": "dfc48a0c",
   "metadata": {
    "id": "tSynT0OutU0Y",
    "papermill": {
     "duration": 0.118573,
     "end_time": "2021-12-20T18:46:45.835023",
     "exception": false,
     "start_time": "2021-12-20T18:46:45.716450",
     "status": "completed"
    },
    "tags": []
   },
   "source": [
    "Lets test some models"
   ]
  },
  {
   "cell_type": "code",
   "execution_count": 91,
   "id": "8cd548b4",
   "metadata": {
    "execution": {
     "iopub.execute_input": "2021-12-20T18:46:46.078057Z",
     "iopub.status.busy": "2021-12-20T18:46:46.077094Z",
     "iopub.status.idle": "2021-12-20T18:46:46.245280Z",
     "shell.execute_reply": "2021-12-20T18:46:46.244634Z",
     "shell.execute_reply.started": "2021-12-20T18:33:41.960197Z"
    },
    "id": "5UsDpFVu6v2k",
    "papermill": {
     "duration": 0.287139,
     "end_time": "2021-12-20T18:46:46.245437",
     "exception": false,
     "start_time": "2021-12-20T18:46:45.958298",
     "status": "completed"
    },
    "tags": []
   },
   "outputs": [],
   "source": [
    "from sklearn.linear_model import LogisticRegression\n",
    "from sklearn.tree import DecisionTreeClassifier\n",
    "from sklearn.ensemble import RandomForestClassifier, GradientBoostingClassifier\n",
    "from sklearn.svm import SVC\n",
    "from sklearn.neighbors import KNeighborsClassifier"
   ]
  },
  {
   "cell_type": "code",
   "execution_count": 54,
   "id": "f3954341",
   "metadata": {
    "execution": {
     "iopub.execute_input": "2021-12-20T18:46:46.475244Z",
     "iopub.status.busy": "2021-12-20T18:46:46.474618Z",
     "iopub.status.idle": "2021-12-20T18:46:48.827198Z",
     "shell.execute_reply": "2021-12-20T18:46:48.827715Z",
     "shell.execute_reply.started": "2021-12-20T18:34:13.386036Z"
    },
    "id": "CmpGUI2GtN2I",
    "outputId": "1a352e90-124c-4e5b-e94a-cc94c63629fd",
    "papermill": {
     "duration": 2.470303,
     "end_time": "2021-12-20T18:46:48.827936",
     "exception": false,
     "start_time": "2021-12-20T18:46:46.357633",
     "status": "completed"
    },
    "tags": []
   },
   "outputs": [
    {
     "name": "stdout",
     "output_type": "stream",
     "text": [
      "LogisticRegression(random_state=0): 0.8302\n",
      "DecisionTreeClassifier(): 0.7784\n",
      "RandomForestClassifier(): 0.8099\n",
      "GradientBoostingClassifier(): 0.8403\n",
      "SVC(): 0.8347\n",
      "KNeighborsClassifier(): 0.8088\n"
     ]
    }
   ],
   "source": [
    "lr = LogisticRegression(random_state=0)\n",
    "dt = DecisionTreeClassifier()\n",
    "rf = RandomForestClassifier()\n",
    "gb = GradientBoostingClassifier()\n",
    "svc = SVC()\n",
    "knn = KNeighborsClassifier()\n",
    "\n",
    "models = [lr, dt, rf, gb, svc, knn]\n",
    "for model in models:\n",
    "  cv_score = cross_val_score(model, X_train, y_train, cv=5).mean()\n",
    "  print(f\"{model}: {cv_score:.4f}\")"
   ]
  },
  {
   "cell_type": "markdown",
   "id": "80cdcead",
   "metadata": {
    "id": "HHqyK8MQjdha",
    "papermill": {
     "duration": 0.113587,
     "end_time": "2021-12-20T18:46:49.056033",
     "exception": false,
     "start_time": "2021-12-20T18:46:48.942446",
     "status": "completed"
    },
    "tags": []
   },
   "source": [
    "## Hyperparameters tuning <a name=\"hyperparameters_tuning\"></a>"
   ]
  },
  {
   "cell_type": "markdown",
   "id": "1b0c28eb",
   "metadata": {
    "id": "fFwkWkR0t3_M",
    "papermill": {
     "duration": 0.114105,
     "end_time": "2021-12-20T18:46:49.284598",
     "exception": false,
     "start_time": "2021-12-20T18:46:49.170493",
     "status": "completed"
    },
    "tags": []
   },
   "source": [
    "### Let's tune the best model: GradientBoostingClassifier"
   ]
  },
  {
   "cell_type": "markdown",
   "id": "db86e89d",
   "metadata": {
    "id": "KVa35NDpqIVa",
    "papermill": {
     "duration": 0.112882,
     "end_time": "2021-12-20T18:46:49.511212",
     "exception": false,
     "start_time": "2021-12-20T18:46:49.398330",
     "status": "completed"
    },
    "tags": []
   },
   "source": [
    "#### Using RandomizedSearchCV"
   ]
  },
  {
   "cell_type": "code",
   "execution_count": 55,
   "id": "9ad34ffe",
   "metadata": {
    "execution": {
     "iopub.execute_input": "2021-12-20T18:46:49.741652Z",
     "iopub.status.busy": "2021-12-20T18:46:49.740695Z",
     "iopub.status.idle": "2021-12-20T18:46:49.744653Z",
     "shell.execute_reply": "2021-12-20T18:46:49.745138Z",
     "shell.execute_reply.started": "2021-12-20T18:34:26.245519Z"
    },
    "id": "2T0ImTLc6zEU",
    "papermill": {
     "duration": 0.121285,
     "end_time": "2021-12-20T18:46:49.745333",
     "exception": false,
     "start_time": "2021-12-20T18:46:49.624048",
     "status": "completed"
    },
    "tags": []
   },
   "outputs": [],
   "source": [
    "from sklearn.model_selection import GridSearchCV, RandomizedSearchCV"
   ]
  },
  {
   "cell_type": "code",
   "execution_count": 56,
   "id": "d101b42c",
   "metadata": {
    "execution": {
     "iopub.execute_input": "2021-12-20T18:46:49.977499Z",
     "iopub.status.busy": "2021-12-20T18:46:49.976803Z",
     "iopub.status.idle": "2021-12-20T18:46:49.980887Z",
     "shell.execute_reply": "2021-12-20T18:46:49.981375Z",
     "shell.execute_reply.started": "2021-12-20T18:34:28.326596Z"
    },
    "id": "mBqXgRzQwaor",
    "papermill": {
     "duration": 0.122057,
     "end_time": "2021-12-20T18:46:49.981544",
     "exception": false,
     "start_time": "2021-12-20T18:46:49.859487",
     "status": "completed"
    },
    "tags": []
   },
   "outputs": [],
   "source": [
    "parameters = {\n",
    "    \"learning_rate\": [1, 0.5, 0.25, 0.1, 0.05, 0.01],\n",
    "    \"n_estimators\": [1, 2, 4, 8, 16, 32, 64, 100, 200, 500],\n",
    "    \"max_depth\": np.arange(1, 33),\n",
    "}"
   ]
  },
  {
   "cell_type": "code",
   "execution_count": 57,
   "id": "367fc3d8",
   "metadata": {
    "_kg_hide-output": false,
    "execution": {
     "iopub.execute_input": "2021-12-20T18:46:50.215700Z",
     "iopub.status.busy": "2021-12-20T18:46:50.214631Z",
     "iopub.status.idle": "2021-12-20T18:50:18.475990Z",
     "shell.execute_reply": "2021-12-20T18:50:18.476494Z",
     "shell.execute_reply.started": "2021-12-20T18:34:46.617774Z"
    },
    "id": "ZxgN6rXU14U1",
    "outputId": "11a40e4a-816b-49e5-db34-794b6b8470cd",
    "papermill": {
     "duration": 208.379712,
     "end_time": "2021-12-20T18:50:18.476699",
     "exception": false,
     "start_time": "2021-12-20T18:46:50.096987",
     "status": "completed"
    },
    "tags": []
   },
   "outputs": [
    {
     "name": "stdout",
     "output_type": "stream",
     "text": [
      "Fitting 3 folds for each of 300 candidates, totalling 900 fits\n"
     ]
    },
    {
     "name": "stderr",
     "output_type": "stream",
     "text": [
      "[Parallel(n_jobs=-1)]: Using backend LokyBackend with 4 concurrent workers.\n",
      "[Parallel(n_jobs=-1)]: Done  42 tasks      | elapsed:   14.9s\n",
      "[Parallel(n_jobs=-1)]: Done 192 tasks      | elapsed:   49.5s\n",
      "[Parallel(n_jobs=-1)]: Done 442 tasks      | elapsed:  1.7min\n",
      "[Parallel(n_jobs=-1)]: Done 792 tasks      | elapsed:  3.1min\n"
     ]
    },
    {
     "name": "stdout",
     "output_type": "stream",
     "text": [
      "GradientBoostingClassifier(learning_rate=0.01)\n",
      "0.8279150362483696\n"
     ]
    },
    {
     "name": "stderr",
     "output_type": "stream",
     "text": [
      "[Parallel(n_jobs=-1)]: Done 900 out of 900 | elapsed:  3.5min finished\n"
     ]
    }
   ],
   "source": [
    "rand_grid = RandomizedSearchCV(gb, parameters, n_iter=300, scoring=\"accuracy\", n_jobs=-1, cv=3, verbose=1)\n",
    "rand_grid.fit(X_train, y_train)\n",
    "\n",
    "print(rand_grid.best_estimator_)\n",
    "print(rand_grid.best_score_)"
   ]
  },
  {
   "cell_type": "markdown",
   "id": "d451f990",
   "metadata": {
    "id": "g3W4NgzDqL2q",
    "papermill": {
     "duration": 0.115791,
     "end_time": "2021-12-20T18:50:18.708712",
     "exception": false,
     "start_time": "2021-12-20T18:50:18.592921",
     "status": "completed"
    },
    "tags": []
   },
   "source": [
    "#### Using GridSearchCV"
   ]
  },
  {
   "cell_type": "code",
   "execution_count": 58,
   "id": "8379b7da",
   "metadata": {
    "execution": {
     "iopub.execute_input": "2021-12-20T18:50:18.948196Z",
     "iopub.status.busy": "2021-12-20T18:50:18.947517Z",
     "iopub.status.idle": "2021-12-20T18:50:18.952187Z",
     "shell.execute_reply": "2021-12-20T18:50:18.952762Z",
     "shell.execute_reply.started": "2021-12-20T18:38:23.698990Z"
    },
    "id": "3HmcX8PlJjkb",
    "papermill": {
     "duration": 0.126387,
     "end_time": "2021-12-20T18:50:18.952957",
     "exception": false,
     "start_time": "2021-12-20T18:50:18.826570",
     "status": "completed"
    },
    "tags": []
   },
   "outputs": [],
   "source": [
    "param_grid = {\n",
    "    \"learning_rate\": np.arange(0.05, 0.16, 0.01),\n",
    "    \"n_estimators\": np.arange(495, 506, 1),\n",
    "    \"max_depth\": np.arange(1.7, 2.4, 0.1),\n",
    "    }"
   ]
  },
  {
   "cell_type": "code",
   "execution_count": 59,
   "id": "28cb9b67",
   "metadata": {
    "execution": {
     "iopub.execute_input": "2021-12-20T18:50:19.195214Z",
     "iopub.status.busy": "2021-12-20T18:50:19.194510Z",
     "iopub.status.idle": "2021-12-20T18:57:02.138795Z",
     "shell.execute_reply": "2021-12-20T18:57:02.139412Z",
     "shell.execute_reply.started": "2021-12-20T18:38:35.074131Z"
    },
    "id": "-BGgXunrJoJi",
    "outputId": "db1ba961-9e0a-4576-a434-2c83d70bddac",
    "papermill": {
     "duration": 403.068606,
     "end_time": "2021-12-20T18:57:02.139783",
     "exception": false,
     "start_time": "2021-12-20T18:50:19.071177",
     "status": "completed"
    },
    "tags": []
   },
   "outputs": [
    {
     "name": "stdout",
     "output_type": "stream",
     "text": [
      "Fitting 3 folds for each of 847 candidates, totalling 2541 fits\n"
     ]
    },
    {
     "name": "stderr",
     "output_type": "stream",
     "text": [
      "[Parallel(n_jobs=-1)]: Using backend LokyBackend with 4 concurrent workers.\n",
      "[Parallel(n_jobs=-1)]: Done  42 tasks      | elapsed:    5.6s\n",
      "[Parallel(n_jobs=-1)]: Done 192 tasks      | elapsed:   29.8s\n",
      "[Parallel(n_jobs=-1)]: Done 442 tasks      | elapsed:  1.2min\n",
      "[Parallel(n_jobs=-1)]: Done 792 tasks      | elapsed:  2.0min\n",
      "[Parallel(n_jobs=-1)]: Done 1242 tasks      | elapsed:  3.2min\n",
      "[Parallel(n_jobs=-1)]: Done 1792 tasks      | elapsed:  4.7min\n",
      "[Parallel(n_jobs=-1)]: Done 2442 tasks      | elapsed:  6.4min\n",
      "[Parallel(n_jobs=-1)]: Done 2541 out of 2541 | elapsed:  6.7min finished\n"
     ]
    },
    {
     "name": "stdout",
     "output_type": "stream",
     "text": [
      "GradientBoostingClassifier(max_depth=2.3000000000000007, n_estimators=497)\n",
      "0.831293414626748\n"
     ]
    }
   ],
   "source": [
    "grid = GridSearchCV(gb, param_grid, scoring=\"accuracy\", n_jobs=-1, cv=3, verbose=1)\n",
    "grid.fit(X_train, y_train)\n",
    "print(grid.best_estimator_)\n",
    "print(grid.best_score_)"
   ]
  },
  {
   "cell_type": "markdown",
   "id": "3dfc4403",
   "metadata": {
    "id": "SS9GlN1_fCZd",
    "papermill": {
     "duration": 0.236941,
     "end_time": "2021-12-20T18:57:02.496746",
     "exception": false,
     "start_time": "2021-12-20T18:57:02.259805",
     "status": "completed"
    },
    "tags": []
   },
   "source": [
    "The hyperparmeters tuning did not led to better results than with the default parameters of the GradientBoosingClassifier. We'll stick with them then."
   ]
  },
  {
   "cell_type": "code",
   "execution_count": 60,
   "id": "119dd3c0",
   "metadata": {
    "execution": {
     "iopub.execute_input": "2021-12-20T18:57:02.746288Z",
     "iopub.status.busy": "2021-12-20T18:57:02.745555Z",
     "iopub.status.idle": "2021-12-20T18:57:03.401457Z",
     "shell.execute_reply": "2021-12-20T18:57:03.402113Z",
     "shell.execute_reply.started": "2021-12-20T18:44:09.661117Z"
    },
    "id": "DtCZKjJmfi7x",
    "outputId": "06c97316-c0bf-470b-80de-bd15f745c127",
    "papermill": {
     "duration": 0.783695,
     "end_time": "2021-12-20T18:57:03.402340",
     "exception": false,
     "start_time": "2021-12-20T18:57:02.618645",
     "status": "completed"
    },
    "tags": []
   },
   "outputs": [
    {
     "name": "stdout",
     "output_type": "stream",
     "text": [
      "GradientBoostingClassifier(): 0.8425\n"
     ]
    }
   ],
   "source": [
    "gb = GradientBoostingClassifier(learning_rate=0.1, n_estimators=100, max_depth=3)\n",
    "cv_score = cross_val_score(gb, X_train, y_train, cv=5).mean()\n",
    "print(f\"{gb}: {cv_score:.4f}\")"
   ]
  },
  {
   "cell_type": "markdown",
   "id": "31d723cd",
   "metadata": {
    "papermill": {
     "duration": 0.120995,
     "end_time": "2021-12-20T18:57:03.644269",
     "exception": false,
     "start_time": "2021-12-20T18:57:03.523274",
     "status": "completed"
    },
    "tags": []
   },
   "source": [
    "## Submission <a name=\"submission\"></a>"
   ]
  },
  {
   "cell_type": "code",
   "execution_count": 3,
   "id": "d04eae60",
   "metadata": {
    "execution": {
     "iopub.execute_input": "2021-12-20T18:57:03.889085Z",
     "iopub.status.busy": "2021-12-20T18:57:03.888353Z",
     "iopub.status.idle": "2021-12-20T18:57:04.048946Z",
     "shell.execute_reply": "2021-12-20T18:57:04.048305Z",
     "shell.execute_reply.started": "2021-12-20T18:44:59.980347Z"
    },
    "papermill": {
     "duration": 0.284813,
     "end_time": "2021-12-20T18:57:04.049108",
     "exception": false,
     "start_time": "2021-12-20T18:57:03.764295",
     "status": "completed"
    },
    "tags": []
   },
   "outputs": [],
   "source": [
    "# gb = GradientBoostingClassifier(learning_rate=0.1, n_estimators=100, max_depth=3)\n",
    "# gb.fit(X_train, y_train)\n",
    "# predictions = gb.predict(X_test)\n",
    "\n",
    "# output = pd.DataFrame({'PassengerId': df_test[\"passengerid\"], 'Survived': predictions})\n",
    "# output.to_csv('submission.csv', index=False)"
   ]
  }
 ],
 "metadata": {
  "kernelspec": {
   "display_name": "Python 3 (ipykernel)",
   "language": "python",
   "name": "python3"
  },
  "language_info": {
   "codemirror_mode": {
    "name": "ipython",
    "version": 3
   },
   "file_extension": ".py",
   "mimetype": "text/x-python",
   "name": "python",
   "nbconvert_exporter": "python",
   "pygments_lexer": "ipython3",
   "version": "3.9.5"
  },
  "papermill": {
   "default_parameters": {},
   "duration": 663.005786,
   "end_time": "2021-12-20T18:57:05.288313",
   "environment_variables": {},
   "exception": null,
   "input_path": "__notebook__.ipynb",
   "output_path": "__notebook__.ipynb",
   "parameters": {},
   "start_time": "2021-12-20T18:46:02.282527",
   "version": "2.3.3"
  }
 },
 "nbformat": 4,
 "nbformat_minor": 5
}
